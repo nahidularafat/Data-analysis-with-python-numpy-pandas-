{
  "nbformat": 4,
  "nbformat_minor": 0,
  "metadata": {
    "colab": {
      "provenance": [],
      "authorship_tag": "ABX9TyMMayENonGM8NnHFmUazUxY",
      "include_colab_link": true
    },
    "kernelspec": {
      "name": "python3",
      "display_name": "Python 3"
    },
    "language_info": {
      "name": "python"
    },
    "widgets": {
      "application/vnd.jupyter.widget-state+json": {
        "3f927ed293af4b4d8fecc8fa561705ab": {
          "model_module": "@jupyter-widgets/controls",
          "model_name": "HBoxModel",
          "model_module_version": "1.5.0",
          "state": {
            "_dom_classes": [],
            "_model_module": "@jupyter-widgets/controls",
            "_model_module_version": "1.5.0",
            "_model_name": "HBoxModel",
            "_view_count": null,
            "_view_module": "@jupyter-widgets/controls",
            "_view_module_version": "1.5.0",
            "_view_name": "HBoxView",
            "box_style": "",
            "children": [
              "IPY_MODEL_75cc0e3248d74a13911f66415768f525",
              "IPY_MODEL_9b10711b3a304f7a8b20c420c4b61a25",
              "IPY_MODEL_659f99ee98674b81bf99a59e6205529e"
            ],
            "layout": "IPY_MODEL_6d21e8e6ce93444cb74abf33a162cd6a"
          }
        },
        "75cc0e3248d74a13911f66415768f525": {
          "model_module": "@jupyter-widgets/controls",
          "model_name": "HTMLModel",
          "model_module_version": "1.5.0",
          "state": {
            "_dom_classes": [],
            "_model_module": "@jupyter-widgets/controls",
            "_model_module_version": "1.5.0",
            "_model_name": "HTMLModel",
            "_view_count": null,
            "_view_module": "@jupyter-widgets/controls",
            "_view_module_version": "1.5.0",
            "_view_name": "HTMLView",
            "description": "",
            "description_tooltip": null,
            "layout": "IPY_MODEL_e18ee86568f0427dbd0fed42dfaa07d2",
            "placeholder": "​",
            "style": "IPY_MODEL_bb33e5a99a014f18ba72a36fd2e84c28",
            "value": "Processing: 100%"
          }
        },
        "9b10711b3a304f7a8b20c420c4b61a25": {
          "model_module": "@jupyter-widgets/controls",
          "model_name": "FloatProgressModel",
          "model_module_version": "1.5.0",
          "state": {
            "_dom_classes": [],
            "_model_module": "@jupyter-widgets/controls",
            "_model_module_version": "1.5.0",
            "_model_name": "FloatProgressModel",
            "_view_count": null,
            "_view_module": "@jupyter-widgets/controls",
            "_view_module_version": "1.5.0",
            "_view_name": "ProgressView",
            "bar_style": "",
            "description": "",
            "description_tooltip": null,
            "layout": "IPY_MODEL_9961967245bb47639795101c1f76b455",
            "max": 69,
            "min": 0,
            "orientation": "horizontal",
            "style": "IPY_MODEL_7052f9142faf466a9dc1385b9fd11338",
            "value": 69
          }
        },
        "659f99ee98674b81bf99a59e6205529e": {
          "model_module": "@jupyter-widgets/controls",
          "model_name": "HTMLModel",
          "model_module_version": "1.5.0",
          "state": {
            "_dom_classes": [],
            "_model_module": "@jupyter-widgets/controls",
            "_model_module_version": "1.5.0",
            "_model_name": "HTMLModel",
            "_view_count": null,
            "_view_module": "@jupyter-widgets/controls",
            "_view_module_version": "1.5.0",
            "_view_name": "HTMLView",
            "description": "",
            "description_tooltip": null,
            "layout": "IPY_MODEL_dfefcf96ac504a5babfb35bd5a469e24",
            "placeholder": "​",
            "style": "IPY_MODEL_464ee7bc2da54309a14d7519c8beece7",
            "value": " 69/69 [2:17:29&lt;00:00, 66.04s/it]"
          }
        },
        "6d21e8e6ce93444cb74abf33a162cd6a": {
          "model_module": "@jupyter-widgets/base",
          "model_name": "LayoutModel",
          "model_module_version": "1.2.0",
          "state": {
            "_model_module": "@jupyter-widgets/base",
            "_model_module_version": "1.2.0",
            "_model_name": "LayoutModel",
            "_view_count": null,
            "_view_module": "@jupyter-widgets/base",
            "_view_module_version": "1.2.0",
            "_view_name": "LayoutView",
            "align_content": null,
            "align_items": null,
            "align_self": null,
            "border": null,
            "bottom": null,
            "display": null,
            "flex": null,
            "flex_flow": null,
            "grid_area": null,
            "grid_auto_columns": null,
            "grid_auto_flow": null,
            "grid_auto_rows": null,
            "grid_column": null,
            "grid_gap": null,
            "grid_row": null,
            "grid_template_areas": null,
            "grid_template_columns": null,
            "grid_template_rows": null,
            "height": null,
            "justify_content": null,
            "justify_items": null,
            "left": null,
            "margin": null,
            "max_height": null,
            "max_width": null,
            "min_height": null,
            "min_width": null,
            "object_fit": null,
            "object_position": null,
            "order": null,
            "overflow": null,
            "overflow_x": null,
            "overflow_y": null,
            "padding": null,
            "right": null,
            "top": null,
            "visibility": "hidden",
            "width": null
          }
        },
        "e18ee86568f0427dbd0fed42dfaa07d2": {
          "model_module": "@jupyter-widgets/base",
          "model_name": "LayoutModel",
          "model_module_version": "1.2.0",
          "state": {
            "_model_module": "@jupyter-widgets/base",
            "_model_module_version": "1.2.0",
            "_model_name": "LayoutModel",
            "_view_count": null,
            "_view_module": "@jupyter-widgets/base",
            "_view_module_version": "1.2.0",
            "_view_name": "LayoutView",
            "align_content": null,
            "align_items": null,
            "align_self": null,
            "border": null,
            "bottom": null,
            "display": null,
            "flex": null,
            "flex_flow": null,
            "grid_area": null,
            "grid_auto_columns": null,
            "grid_auto_flow": null,
            "grid_auto_rows": null,
            "grid_column": null,
            "grid_gap": null,
            "grid_row": null,
            "grid_template_areas": null,
            "grid_template_columns": null,
            "grid_template_rows": null,
            "height": null,
            "justify_content": null,
            "justify_items": null,
            "left": null,
            "margin": null,
            "max_height": null,
            "max_width": null,
            "min_height": null,
            "min_width": null,
            "object_fit": null,
            "object_position": null,
            "order": null,
            "overflow": null,
            "overflow_x": null,
            "overflow_y": null,
            "padding": null,
            "right": null,
            "top": null,
            "visibility": null,
            "width": null
          }
        },
        "bb33e5a99a014f18ba72a36fd2e84c28": {
          "model_module": "@jupyter-widgets/controls",
          "model_name": "DescriptionStyleModel",
          "model_module_version": "1.5.0",
          "state": {
            "_model_module": "@jupyter-widgets/controls",
            "_model_module_version": "1.5.0",
            "_model_name": "DescriptionStyleModel",
            "_view_count": null,
            "_view_module": "@jupyter-widgets/base",
            "_view_module_version": "1.2.0",
            "_view_name": "StyleView",
            "description_width": ""
          }
        },
        "9961967245bb47639795101c1f76b455": {
          "model_module": "@jupyter-widgets/base",
          "model_name": "LayoutModel",
          "model_module_version": "1.2.0",
          "state": {
            "_model_module": "@jupyter-widgets/base",
            "_model_module_version": "1.2.0",
            "_model_name": "LayoutModel",
            "_view_count": null,
            "_view_module": "@jupyter-widgets/base",
            "_view_module_version": "1.2.0",
            "_view_name": "LayoutView",
            "align_content": null,
            "align_items": null,
            "align_self": null,
            "border": null,
            "bottom": null,
            "display": null,
            "flex": null,
            "flex_flow": null,
            "grid_area": null,
            "grid_auto_columns": null,
            "grid_auto_flow": null,
            "grid_auto_rows": null,
            "grid_column": null,
            "grid_gap": null,
            "grid_row": null,
            "grid_template_areas": null,
            "grid_template_columns": null,
            "grid_template_rows": null,
            "height": null,
            "justify_content": null,
            "justify_items": null,
            "left": null,
            "margin": null,
            "max_height": null,
            "max_width": null,
            "min_height": null,
            "min_width": null,
            "object_fit": null,
            "object_position": null,
            "order": null,
            "overflow": null,
            "overflow_x": null,
            "overflow_y": null,
            "padding": null,
            "right": null,
            "top": null,
            "visibility": null,
            "width": null
          }
        },
        "7052f9142faf466a9dc1385b9fd11338": {
          "model_module": "@jupyter-widgets/controls",
          "model_name": "ProgressStyleModel",
          "model_module_version": "1.5.0",
          "state": {
            "_model_module": "@jupyter-widgets/controls",
            "_model_module_version": "1.5.0",
            "_model_name": "ProgressStyleModel",
            "_view_count": null,
            "_view_module": "@jupyter-widgets/base",
            "_view_module_version": "1.2.0",
            "_view_name": "StyleView",
            "bar_color": null,
            "description_width": ""
          }
        },
        "dfefcf96ac504a5babfb35bd5a469e24": {
          "model_module": "@jupyter-widgets/base",
          "model_name": "LayoutModel",
          "model_module_version": "1.2.0",
          "state": {
            "_model_module": "@jupyter-widgets/base",
            "_model_module_version": "1.2.0",
            "_model_name": "LayoutModel",
            "_view_count": null,
            "_view_module": "@jupyter-widgets/base",
            "_view_module_version": "1.2.0",
            "_view_name": "LayoutView",
            "align_content": null,
            "align_items": null,
            "align_self": null,
            "border": null,
            "bottom": null,
            "display": null,
            "flex": null,
            "flex_flow": null,
            "grid_area": null,
            "grid_auto_columns": null,
            "grid_auto_flow": null,
            "grid_auto_rows": null,
            "grid_column": null,
            "grid_gap": null,
            "grid_row": null,
            "grid_template_areas": null,
            "grid_template_columns": null,
            "grid_template_rows": null,
            "height": null,
            "justify_content": null,
            "justify_items": null,
            "left": null,
            "margin": null,
            "max_height": null,
            "max_width": null,
            "min_height": null,
            "min_width": null,
            "object_fit": null,
            "object_position": null,
            "order": null,
            "overflow": null,
            "overflow_x": null,
            "overflow_y": null,
            "padding": null,
            "right": null,
            "top": null,
            "visibility": null,
            "width": null
          }
        },
        "464ee7bc2da54309a14d7519c8beece7": {
          "model_module": "@jupyter-widgets/controls",
          "model_name": "DescriptionStyleModel",
          "model_module_version": "1.5.0",
          "state": {
            "_model_module": "@jupyter-widgets/controls",
            "_model_module_version": "1.5.0",
            "_model_name": "DescriptionStyleModel",
            "_view_count": null,
            "_view_module": "@jupyter-widgets/base",
            "_view_module_version": "1.2.0",
            "_view_name": "StyleView",
            "description_width": ""
          }
        },
        "fe1136b2cbad498fb861892315b6dda1": {
          "model_module": "@jupyter-widgets/controls",
          "model_name": "HBoxModel",
          "model_module_version": "1.5.0",
          "state": {
            "_dom_classes": [],
            "_model_module": "@jupyter-widgets/controls",
            "_model_module_version": "1.5.0",
            "_model_name": "HBoxModel",
            "_view_count": null,
            "_view_module": "@jupyter-widgets/controls",
            "_view_module_version": "1.5.0",
            "_view_name": "HBoxView",
            "box_style": "",
            "children": [
              "IPY_MODEL_fe2aa535bcad4e6b913688d82bb025a4",
              "IPY_MODEL_591992a3130745dbb4f1640c010d5143",
              "IPY_MODEL_8310d7ba669e42f78d82857375f1d350"
            ],
            "layout": "IPY_MODEL_089004cef74541bcb15c36e573f42b03"
          }
        },
        "fe2aa535bcad4e6b913688d82bb025a4": {
          "model_module": "@jupyter-widgets/controls",
          "model_name": "HTMLModel",
          "model_module_version": "1.5.0",
          "state": {
            "_dom_classes": [],
            "_model_module": "@jupyter-widgets/controls",
            "_model_module_version": "1.5.0",
            "_model_name": "HTMLModel",
            "_view_count": null,
            "_view_module": "@jupyter-widgets/controls",
            "_view_module_version": "1.5.0",
            "_view_name": "HTMLView",
            "description": "",
            "description_tooltip": null,
            "layout": "IPY_MODEL_50fce253bd9f499cbff2c2fe2233b50c",
            "placeholder": "​",
            "style": "IPY_MODEL_cb3b3c3f3c8e441aa0f401c442b3f8e4",
            "value": "Processing: 100%"
          }
        },
        "591992a3130745dbb4f1640c010d5143": {
          "model_module": "@jupyter-widgets/controls",
          "model_name": "FloatProgressModel",
          "model_module_version": "1.5.0",
          "state": {
            "_dom_classes": [],
            "_model_module": "@jupyter-widgets/controls",
            "_model_module_version": "1.5.0",
            "_model_name": "FloatProgressModel",
            "_view_count": null,
            "_view_module": "@jupyter-widgets/controls",
            "_view_module_version": "1.5.0",
            "_view_name": "ProgressView",
            "bar_style": "",
            "description": "",
            "description_tooltip": null,
            "layout": "IPY_MODEL_4290047763ad4e458effc7f112501f3c",
            "max": 7,
            "min": 0,
            "orientation": "horizontal",
            "style": "IPY_MODEL_4d3ebf9d66554944b8e0b1a19426c71e",
            "value": 7
          }
        },
        "8310d7ba669e42f78d82857375f1d350": {
          "model_module": "@jupyter-widgets/controls",
          "model_name": "HTMLModel",
          "model_module_version": "1.5.0",
          "state": {
            "_dom_classes": [],
            "_model_module": "@jupyter-widgets/controls",
            "_model_module_version": "1.5.0",
            "_model_name": "HTMLModel",
            "_view_count": null,
            "_view_module": "@jupyter-widgets/controls",
            "_view_module_version": "1.5.0",
            "_view_name": "HTMLView",
            "description": "",
            "description_tooltip": null,
            "layout": "IPY_MODEL_9b8f357e782f494dbb96263c275ee1a8",
            "placeholder": "​",
            "style": "IPY_MODEL_8144d4612d514df48d4660c617db380f",
            "value": " 7/7 [19:42&lt;00:00, 114.32s/it]"
          }
        },
        "089004cef74541bcb15c36e573f42b03": {
          "model_module": "@jupyter-widgets/base",
          "model_name": "LayoutModel",
          "model_module_version": "1.2.0",
          "state": {
            "_model_module": "@jupyter-widgets/base",
            "_model_module_version": "1.2.0",
            "_model_name": "LayoutModel",
            "_view_count": null,
            "_view_module": "@jupyter-widgets/base",
            "_view_module_version": "1.2.0",
            "_view_name": "LayoutView",
            "align_content": null,
            "align_items": null,
            "align_self": null,
            "border": null,
            "bottom": null,
            "display": null,
            "flex": null,
            "flex_flow": null,
            "grid_area": null,
            "grid_auto_columns": null,
            "grid_auto_flow": null,
            "grid_auto_rows": null,
            "grid_column": null,
            "grid_gap": null,
            "grid_row": null,
            "grid_template_areas": null,
            "grid_template_columns": null,
            "grid_template_rows": null,
            "height": null,
            "justify_content": null,
            "justify_items": null,
            "left": null,
            "margin": null,
            "max_height": null,
            "max_width": null,
            "min_height": null,
            "min_width": null,
            "object_fit": null,
            "object_position": null,
            "order": null,
            "overflow": null,
            "overflow_x": null,
            "overflow_y": null,
            "padding": null,
            "right": null,
            "top": null,
            "visibility": "hidden",
            "width": null
          }
        },
        "50fce253bd9f499cbff2c2fe2233b50c": {
          "model_module": "@jupyter-widgets/base",
          "model_name": "LayoutModel",
          "model_module_version": "1.2.0",
          "state": {
            "_model_module": "@jupyter-widgets/base",
            "_model_module_version": "1.2.0",
            "_model_name": "LayoutModel",
            "_view_count": null,
            "_view_module": "@jupyter-widgets/base",
            "_view_module_version": "1.2.0",
            "_view_name": "LayoutView",
            "align_content": null,
            "align_items": null,
            "align_self": null,
            "border": null,
            "bottom": null,
            "display": null,
            "flex": null,
            "flex_flow": null,
            "grid_area": null,
            "grid_auto_columns": null,
            "grid_auto_flow": null,
            "grid_auto_rows": null,
            "grid_column": null,
            "grid_gap": null,
            "grid_row": null,
            "grid_template_areas": null,
            "grid_template_columns": null,
            "grid_template_rows": null,
            "height": null,
            "justify_content": null,
            "justify_items": null,
            "left": null,
            "margin": null,
            "max_height": null,
            "max_width": null,
            "min_height": null,
            "min_width": null,
            "object_fit": null,
            "object_position": null,
            "order": null,
            "overflow": null,
            "overflow_x": null,
            "overflow_y": null,
            "padding": null,
            "right": null,
            "top": null,
            "visibility": null,
            "width": null
          }
        },
        "cb3b3c3f3c8e441aa0f401c442b3f8e4": {
          "model_module": "@jupyter-widgets/controls",
          "model_name": "DescriptionStyleModel",
          "model_module_version": "1.5.0",
          "state": {
            "_model_module": "@jupyter-widgets/controls",
            "_model_module_version": "1.5.0",
            "_model_name": "DescriptionStyleModel",
            "_view_count": null,
            "_view_module": "@jupyter-widgets/base",
            "_view_module_version": "1.2.0",
            "_view_name": "StyleView",
            "description_width": ""
          }
        },
        "4290047763ad4e458effc7f112501f3c": {
          "model_module": "@jupyter-widgets/base",
          "model_name": "LayoutModel",
          "model_module_version": "1.2.0",
          "state": {
            "_model_module": "@jupyter-widgets/base",
            "_model_module_version": "1.2.0",
            "_model_name": "LayoutModel",
            "_view_count": null,
            "_view_module": "@jupyter-widgets/base",
            "_view_module_version": "1.2.0",
            "_view_name": "LayoutView",
            "align_content": null,
            "align_items": null,
            "align_self": null,
            "border": null,
            "bottom": null,
            "display": null,
            "flex": null,
            "flex_flow": null,
            "grid_area": null,
            "grid_auto_columns": null,
            "grid_auto_flow": null,
            "grid_auto_rows": null,
            "grid_column": null,
            "grid_gap": null,
            "grid_row": null,
            "grid_template_areas": null,
            "grid_template_columns": null,
            "grid_template_rows": null,
            "height": null,
            "justify_content": null,
            "justify_items": null,
            "left": null,
            "margin": null,
            "max_height": null,
            "max_width": null,
            "min_height": null,
            "min_width": null,
            "object_fit": null,
            "object_position": null,
            "order": null,
            "overflow": null,
            "overflow_x": null,
            "overflow_y": null,
            "padding": null,
            "right": null,
            "top": null,
            "visibility": null,
            "width": null
          }
        },
        "4d3ebf9d66554944b8e0b1a19426c71e": {
          "model_module": "@jupyter-widgets/controls",
          "model_name": "ProgressStyleModel",
          "model_module_version": "1.5.0",
          "state": {
            "_model_module": "@jupyter-widgets/controls",
            "_model_module_version": "1.5.0",
            "_model_name": "ProgressStyleModel",
            "_view_count": null,
            "_view_module": "@jupyter-widgets/base",
            "_view_module_version": "1.2.0",
            "_view_name": "StyleView",
            "bar_color": null,
            "description_width": ""
          }
        },
        "9b8f357e782f494dbb96263c275ee1a8": {
          "model_module": "@jupyter-widgets/base",
          "model_name": "LayoutModel",
          "model_module_version": "1.2.0",
          "state": {
            "_model_module": "@jupyter-widgets/base",
            "_model_module_version": "1.2.0",
            "_model_name": "LayoutModel",
            "_view_count": null,
            "_view_module": "@jupyter-widgets/base",
            "_view_module_version": "1.2.0",
            "_view_name": "LayoutView",
            "align_content": null,
            "align_items": null,
            "align_self": null,
            "border": null,
            "bottom": null,
            "display": null,
            "flex": null,
            "flex_flow": null,
            "grid_area": null,
            "grid_auto_columns": null,
            "grid_auto_flow": null,
            "grid_auto_rows": null,
            "grid_column": null,
            "grid_gap": null,
            "grid_row": null,
            "grid_template_areas": null,
            "grid_template_columns": null,
            "grid_template_rows": null,
            "height": null,
            "justify_content": null,
            "justify_items": null,
            "left": null,
            "margin": null,
            "max_height": null,
            "max_width": null,
            "min_height": null,
            "min_width": null,
            "object_fit": null,
            "object_position": null,
            "order": null,
            "overflow": null,
            "overflow_x": null,
            "overflow_y": null,
            "padding": null,
            "right": null,
            "top": null,
            "visibility": null,
            "width": null
          }
        },
        "8144d4612d514df48d4660c617db380f": {
          "model_module": "@jupyter-widgets/controls",
          "model_name": "DescriptionStyleModel",
          "model_module_version": "1.5.0",
          "state": {
            "_model_module": "@jupyter-widgets/controls",
            "_model_module_version": "1.5.0",
            "_model_name": "DescriptionStyleModel",
            "_view_count": null,
            "_view_module": "@jupyter-widgets/base",
            "_view_module_version": "1.2.0",
            "_view_name": "StyleView",
            "description_width": ""
          }
        },
        "4de3ecaefa0e46f582f6f7d4f7fde16e": {
          "model_module": "@jupyter-widgets/controls",
          "model_name": "VBoxModel",
          "model_module_version": "1.5.0",
          "state": {
            "_dom_classes": [
              "widget-interact"
            ],
            "_model_module": "@jupyter-widgets/controls",
            "_model_module_version": "1.5.0",
            "_model_name": "VBoxModel",
            "_view_count": null,
            "_view_module": "@jupyter-widgets/controls",
            "_view_module_version": "1.5.0",
            "_view_name": "VBoxView",
            "box_style": "",
            "children": [
              "IPY_MODEL_6497dca9a9074cb883b8c47a95c248a0",
              "IPY_MODEL_d198655133314e9393a605aedf060dc2"
            ],
            "layout": "IPY_MODEL_704c26fd31c9440cac3380194405bd14"
          }
        },
        "6497dca9a9074cb883b8c47a95c248a0": {
          "model_module": "@jupyter-widgets/controls",
          "model_name": "ToggleButtonsModel",
          "model_module_version": "1.5.0",
          "state": {
            "_dom_classes": [],
            "_model_module": "@jupyter-widgets/controls",
            "_model_module_version": "1.5.0",
            "_model_name": "ToggleButtonsModel",
            "_options_labels": [
              "Pipeline Plot",
              "Hyperparameters",
              "AUC",
              "Confusion Matrix",
              "Threshold",
              "Precision Recall",
              "Prediction Error",
              "Class Report",
              "Feature Selection",
              "Learning Curve",
              "Manifold Learning",
              "Calibration Curve",
              "Validation Curve",
              "Dimensions",
              "Feature Importance",
              "Feature Importance (All)",
              "Decision Boundary",
              "Lift Chart",
              "Gain Chart",
              "Decision Tree",
              "KS Statistic Plot"
            ],
            "_view_count": null,
            "_view_module": "@jupyter-widgets/controls",
            "_view_module_version": "1.5.0",
            "_view_name": "ToggleButtonsView",
            "button_style": "",
            "description": "Plot Type:",
            "description_tooltip": null,
            "disabled": false,
            "icons": [
              ""
            ],
            "index": 4,
            "layout": "IPY_MODEL_39d83e2440b4492e9701ede3b8db8e62",
            "style": "IPY_MODEL_7291fbdd9150449ea66cba479badc454",
            "tooltips": []
          }
        },
        "d198655133314e9393a605aedf060dc2": {
          "model_module": "@jupyter-widgets/output",
          "model_name": "OutputModel",
          "model_module_version": "1.0.0",
          "state": {
            "_dom_classes": [],
            "_model_module": "@jupyter-widgets/output",
            "_model_module_version": "1.0.0",
            "_model_name": "OutputModel",
            "_view_count": null,
            "_view_module": "@jupyter-widgets/output",
            "_view_module_version": "1.0.0",
            "_view_name": "OutputView",
            "layout": "IPY_MODEL_26de909ba57d485b8c9f5aeabb6b2042",
            "msg_id": "733d0603-ac96-4780-f44d-9ca348789b09",
            "outputs": [
              {
                "output_type": "display_data",
                "data": {
                  "text/plain": "<Figure size 800x550 with 1 Axes>",
                  "image/png": "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\n"
                },
                "metadata": {}
              }
            ]
          }
        },
        "704c26fd31c9440cac3380194405bd14": {
          "model_module": "@jupyter-widgets/base",
          "model_name": "LayoutModel",
          "model_module_version": "1.2.0",
          "state": {
            "_model_module": "@jupyter-widgets/base",
            "_model_module_version": "1.2.0",
            "_model_name": "LayoutModel",
            "_view_count": null,
            "_view_module": "@jupyter-widgets/base",
            "_view_module_version": "1.2.0",
            "_view_name": "LayoutView",
            "align_content": null,
            "align_items": null,
            "align_self": null,
            "border": null,
            "bottom": null,
            "display": null,
            "flex": null,
            "flex_flow": null,
            "grid_area": null,
            "grid_auto_columns": null,
            "grid_auto_flow": null,
            "grid_auto_rows": null,
            "grid_column": null,
            "grid_gap": null,
            "grid_row": null,
            "grid_template_areas": null,
            "grid_template_columns": null,
            "grid_template_rows": null,
            "height": null,
            "justify_content": null,
            "justify_items": null,
            "left": null,
            "margin": null,
            "max_height": null,
            "max_width": null,
            "min_height": null,
            "min_width": null,
            "object_fit": null,
            "object_position": null,
            "order": null,
            "overflow": null,
            "overflow_x": null,
            "overflow_y": null,
            "padding": null,
            "right": null,
            "top": null,
            "visibility": null,
            "width": null
          }
        },
        "39d83e2440b4492e9701ede3b8db8e62": {
          "model_module": "@jupyter-widgets/base",
          "model_name": "LayoutModel",
          "model_module_version": "1.2.0",
          "state": {
            "_model_module": "@jupyter-widgets/base",
            "_model_module_version": "1.2.0",
            "_model_name": "LayoutModel",
            "_view_count": null,
            "_view_module": "@jupyter-widgets/base",
            "_view_module_version": "1.2.0",
            "_view_name": "LayoutView",
            "align_content": null,
            "align_items": null,
            "align_self": null,
            "border": null,
            "bottom": null,
            "display": null,
            "flex": null,
            "flex_flow": null,
            "grid_area": null,
            "grid_auto_columns": null,
            "grid_auto_flow": null,
            "grid_auto_rows": null,
            "grid_column": null,
            "grid_gap": null,
            "grid_row": null,
            "grid_template_areas": null,
            "grid_template_columns": null,
            "grid_template_rows": null,
            "height": null,
            "justify_content": null,
            "justify_items": null,
            "left": null,
            "margin": null,
            "max_height": null,
            "max_width": null,
            "min_height": null,
            "min_width": null,
            "object_fit": null,
            "object_position": null,
            "order": null,
            "overflow": null,
            "overflow_x": null,
            "overflow_y": null,
            "padding": null,
            "right": null,
            "top": null,
            "visibility": null,
            "width": null
          }
        },
        "7291fbdd9150449ea66cba479badc454": {
          "model_module": "@jupyter-widgets/controls",
          "model_name": "ToggleButtonsStyleModel",
          "model_module_version": "1.5.0",
          "state": {
            "_model_module": "@jupyter-widgets/controls",
            "_model_module_version": "1.5.0",
            "_model_name": "ToggleButtonsStyleModel",
            "_view_count": null,
            "_view_module": "@jupyter-widgets/base",
            "_view_module_version": "1.2.0",
            "_view_name": "StyleView",
            "button_width": "",
            "description_width": "",
            "font_weight": ""
          }
        },
        "26de909ba57d485b8c9f5aeabb6b2042": {
          "model_module": "@jupyter-widgets/base",
          "model_name": "LayoutModel",
          "model_module_version": "1.2.0",
          "state": {
            "_model_module": "@jupyter-widgets/base",
            "_model_module_version": "1.2.0",
            "_model_name": "LayoutModel",
            "_view_count": null,
            "_view_module": "@jupyter-widgets/base",
            "_view_module_version": "1.2.0",
            "_view_name": "LayoutView",
            "align_content": null,
            "align_items": null,
            "align_self": null,
            "border": null,
            "bottom": null,
            "display": null,
            "flex": null,
            "flex_flow": null,
            "grid_area": null,
            "grid_auto_columns": null,
            "grid_auto_flow": null,
            "grid_auto_rows": null,
            "grid_column": null,
            "grid_gap": null,
            "grid_row": null,
            "grid_template_areas": null,
            "grid_template_columns": null,
            "grid_template_rows": null,
            "height": null,
            "justify_content": null,
            "justify_items": null,
            "left": null,
            "margin": null,
            "max_height": null,
            "max_width": null,
            "min_height": null,
            "min_width": null,
            "object_fit": null,
            "object_position": null,
            "order": null,
            "overflow": null,
            "overflow_x": null,
            "overflow_y": null,
            "padding": null,
            "right": null,
            "top": null,
            "visibility": null,
            "width": null
          }
        }
      }
    }
  },
  "cells": [
    {
      "cell_type": "markdown",
      "metadata": {
        "id": "view-in-github",
        "colab_type": "text"
      },
      "source": [
        "<a href=\"https://colab.research.google.com/github/nahidularafat/Data-analysis-with-python-numpy-pandas-/blob/main/3%2Cweatherhistory.ipynb\" target=\"_parent\"><img src=\"https://colab.research.google.com/assets/colab-badge.svg\" alt=\"Open In Colab\"/></a>"
      ]
    },
    {
      "cell_type": "code",
      "execution_count": null,
      "metadata": {
        "colab": {
          "base_uri": "https://localhost:8080/"
        },
        "collapsed": true,
        "id": "wVhPAYBoWtu5",
        "outputId": "074f2648-8b62-4122-d635-5080f2bd353d"
      },
      "outputs": [
        {
          "output_type": "stream",
          "name": "stdout",
          "text": [
            "Requirement already satisfied: pycaret[full] in /usr/local/lib/python3.11/dist-packages (3.3.2)\n",
            "Requirement already satisfied: ipython>=5.5.0 in /usr/local/lib/python3.11/dist-packages (from pycaret[full]) (7.34.0)\n",
            "Requirement already satisfied: ipywidgets>=7.6.5 in /usr/local/lib/python3.11/dist-packages (from pycaret[full]) (7.7.1)\n",
            "Requirement already satisfied: tqdm>=4.62.0 in /usr/local/lib/python3.11/dist-packages (from pycaret[full]) (4.67.1)\n",
            "Requirement already satisfied: numpy<1.27,>=1.21 in /usr/local/lib/python3.11/dist-packages (from pycaret[full]) (1.26.4)\n",
            "Requirement already satisfied: pandas<2.2.0 in /usr/local/lib/python3.11/dist-packages (from pycaret[full]) (2.1.4)\n",
            "Requirement already satisfied: jinja2>=3 in /usr/local/lib/python3.11/dist-packages (from pycaret[full]) (3.1.6)\n",
            "Requirement already satisfied: scipy<=1.11.4,>=1.6.1 in /usr/local/lib/python3.11/dist-packages (from pycaret[full]) (1.11.4)\n",
            "Requirement already satisfied: joblib<1.4,>=1.2.0 in /usr/local/lib/python3.11/dist-packages (from pycaret[full]) (1.3.2)\n",
            "Requirement already satisfied: scikit-learn>1.4.0 in /usr/local/lib/python3.11/dist-packages (from pycaret[full]) (1.4.2)\n",
            "Requirement already satisfied: pyod>=1.1.3 in /usr/local/lib/python3.11/dist-packages (from pycaret[full]) (2.0.5)\n",
            "Requirement already satisfied: imbalanced-learn>=0.12.0 in /usr/local/lib/python3.11/dist-packages (from pycaret[full]) (0.13.0)\n",
            "Requirement already satisfied: category-encoders>=2.4.0 in /usr/local/lib/python3.11/dist-packages (from pycaret[full]) (2.7.0)\n",
            "Requirement already satisfied: lightgbm>=3.0.0 in /usr/local/lib/python3.11/dist-packages (from pycaret[full]) (4.5.0)\n",
            "Requirement already satisfied: numba>=0.55.0 in /usr/local/lib/python3.11/dist-packages (from pycaret[full]) (0.60.0)\n",
            "Requirement already satisfied: requests>=2.27.1 in /usr/local/lib/python3.11/dist-packages (from pycaret[full]) (2.32.3)\n",
            "Requirement already satisfied: psutil>=5.9.0 in /usr/local/lib/python3.11/dist-packages (from pycaret[full]) (5.9.5)\n",
            "Requirement already satisfied: markupsafe>=2.0.1 in /usr/local/lib/python3.11/dist-packages (from pycaret[full]) (3.0.2)\n",
            "Requirement already satisfied: importlib-metadata>=4.12.0 in /usr/local/lib/python3.11/dist-packages (from pycaret[full]) (8.6.1)\n",
            "Requirement already satisfied: nbformat>=4.2.0 in /usr/local/lib/python3.11/dist-packages (from pycaret[full]) (5.10.4)\n",
            "Requirement already satisfied: cloudpickle in /usr/local/lib/python3.11/dist-packages (from pycaret[full]) (3.1.1)\n",
            "Requirement already satisfied: deprecation>=2.1.0 in /usr/local/lib/python3.11/dist-packages (from pycaret[full]) (2.1.0)\n",
            "Requirement already satisfied: xxhash in /usr/local/lib/python3.11/dist-packages (from pycaret[full]) (3.5.0)\n",
            "Requirement already satisfied: matplotlib<3.8.0 in /usr/local/lib/python3.11/dist-packages (from pycaret[full]) (3.7.5)\n",
            "Requirement already satisfied: scikit-plot>=0.3.7 in /usr/local/lib/python3.11/dist-packages (from pycaret[full]) (0.3.7)\n",
            "Requirement already satisfied: yellowbrick>=1.4 in /usr/local/lib/python3.11/dist-packages (from pycaret[full]) (1.5)\n",
            "Requirement already satisfied: plotly>=5.14.0 in /usr/local/lib/python3.11/dist-packages (from pycaret[full]) (5.24.1)\n",
            "Requirement already satisfied: kaleido>=0.2.1 in /usr/local/lib/python3.11/dist-packages (from pycaret[full]) (0.2.1)\n",
            "Requirement already satisfied: schemdraw==0.15 in /usr/local/lib/python3.11/dist-packages (from pycaret[full]) (0.15)\n",
            "Requirement already satisfied: plotly-resampler>=0.8.3.1 in /usr/local/lib/python3.11/dist-packages (from pycaret[full]) (0.10.0)\n",
            "Requirement already satisfied: statsmodels>=0.12.1 in /usr/local/lib/python3.11/dist-packages (from pycaret[full]) (0.14.4)\n",
            "Requirement already satisfied: sktime==0.26.0 in /usr/local/lib/python3.11/dist-packages (from pycaret[full]) (0.26.0)\n",
            "Requirement already satisfied: tbats>=1.1.3 in /usr/local/lib/python3.11/dist-packages (from pycaret[full]) (1.1.3)\n",
            "Requirement already satisfied: pmdarima>=2.0.4 in /usr/local/lib/python3.11/dist-packages (from pycaret[full]) (2.0.4)\n",
            "Requirement already satisfied: wurlitzer in /usr/local/lib/python3.11/dist-packages (from pycaret[full]) (3.1.1)\n",
            "Requirement already satisfied: shap~=0.44.0 in /usr/local/lib/python3.11/dist-packages (from pycaret[full]) (0.44.1)\n",
            "Requirement already satisfied: interpret>=0.2.7 in /usr/local/lib/python3.11/dist-packages (from pycaret[full]) (0.6.10)\n",
            "Requirement already satisfied: umap-learn>=0.5.2 in /usr/local/lib/python3.11/dist-packages (from pycaret[full]) (0.5.7)\n",
            "Requirement already satisfied: pyyaml in /usr/local/lib/python3.11/dist-packages (from pycaret[full]) (6.0.2)\n",
            "Requirement already satisfied: ydata-profiling>=4.3.1 in /usr/local/lib/python3.11/dist-packages (from pycaret[full]) (4.16.1)\n",
            "Requirement already satisfied: explainerdashboard>=0.3.8 in /usr/local/lib/python3.11/dist-packages (from pycaret[full]) (0.4.8)\n",
            "Requirement already satisfied: fairlearn==0.7.0 in /usr/local/lib/python3.11/dist-packages (from pycaret[full]) (0.7.0)\n",
            "Requirement already satisfied: kmodes>=0.11.1 in /usr/local/lib/python3.11/dist-packages (from pycaret[full]) (0.12.2)\n",
            "Requirement already satisfied: mlxtend>=0.19.0 in /usr/local/lib/python3.11/dist-packages (from pycaret[full]) (0.23.4)\n",
            "Requirement already satisfied: statsforecast<1.6.0,>=0.5.5 in /usr/local/lib/python3.11/dist-packages (from pycaret[full]) (1.5.0)\n",
            "Requirement already satisfied: hyperopt>=0.2.7 in /usr/local/lib/python3.11/dist-packages (from pycaret[full]) (0.2.7)\n",
            "Requirement already satisfied: optuna>=3.0.0 in /usr/local/lib/python3.11/dist-packages (from pycaret[full]) (4.3.0)\n",
            "Requirement already satisfied: optuna-integration in /usr/local/lib/python3.11/dist-packages (from pycaret[full]) (4.3.0)\n",
            "Requirement already satisfied: scikit-optimize>=0.9.0 in /usr/local/lib/python3.11/dist-packages (from pycaret[full]) (0.10.2)\n",
            "Requirement already satisfied: mlflow>=2.0.0 in /usr/local/lib/python3.11/dist-packages (from pycaret[full]) (2.22.0)\n",
            "Requirement already satisfied: gradio>=3.50.2 in /usr/local/lib/python3.11/dist-packages (from pycaret[full]) (5.32.0)\n",
            "Requirement already satisfied: boto3>=1.24.56 in /usr/local/lib/python3.11/dist-packages (from pycaret[full]) (1.38.27)\n",
            "Requirement already satisfied: fastapi in /usr/local/lib/python3.11/dist-packages (from pycaret[full]) (0.115.12)\n",
            "Requirement already satisfied: uvicorn>=0.17.6 in /usr/local/lib/python3.11/dist-packages (from pycaret[full]) (0.34.2)\n",
            "Requirement already satisfied: m2cgen>=0.9.0 in /usr/local/lib/python3.11/dist-packages (from pycaret[full]) (0.10.0)\n",
            "Requirement already satisfied: evidently~=0.4.16 in /usr/local/lib/python3.11/dist-packages (from pycaret[full]) (0.4.40)\n",
            "Requirement already satisfied: dask>=2024.4.1 in /usr/local/lib/python3.11/dist-packages (from pycaret[full]) (2024.12.1)\n",
            "Requirement already satisfied: distributed>=2024.4.1 in /usr/local/lib/python3.11/dist-packages (from pycaret[full]) (2024.12.1)\n",
            "Requirement already satisfied: fugue~=0.8.0 in /usr/local/lib/python3.11/dist-packages (from pycaret[full]) (0.8.7)\n",
            "Requirement already satisfied: flask in /usr/local/lib/python3.11/dist-packages (from pycaret[full]) (2.3.3)\n",
            "Requirement already satisfied: Werkzeug<3.0,>=2.2 in /usr/local/lib/python3.11/dist-packages (from pycaret[full]) (2.3.8)\n",
            "Requirement already satisfied: pytest<8.0.0 in /usr/local/lib/python3.11/dist-packages (from pycaret[full]) (7.4.4)\n",
            "Requirement already satisfied: moto<5.0.0 in /usr/local/lib/python3.11/dist-packages (from pycaret[full]) (4.2.14)\n",
            "Requirement already satisfied: dash[testing] in /usr/local/lib/python3.11/dist-packages (from pycaret[full]) (2.18.2)\n",
            "Requirement already satisfied: scikit-learn-intelex>=2023.0.1 in /usr/local/lib/python3.11/dist-packages (from pycaret[full]) (2025.5.0)\n",
            "Requirement already satisfied: catboost>=0.23.2 in /usr/local/lib/python3.11/dist-packages (from pycaret[full]) (1.2.8)\n",
            "Requirement already satisfied: xgboost>=1.1.0 in /usr/local/lib/python3.11/dist-packages (from pycaret[full]) (2.1.4)\n",
            "Requirement already satisfied: packaging in /usr/local/lib/python3.11/dist-packages (from sktime==0.26.0->pycaret[full]) (24.2)\n",
            "Requirement already satisfied: scikit-base<0.8.0 in /usr/local/lib/python3.11/dist-packages (from sktime==0.26.0->pycaret[full]) (0.7.8)\n",
            "Requirement already satisfied: botocore<1.39.0,>=1.38.27 in /usr/local/lib/python3.11/dist-packages (from boto3>=1.24.56->pycaret[full]) (1.38.27)\n",
            "Requirement already satisfied: jmespath<2.0.0,>=0.7.1 in /usr/local/lib/python3.11/dist-packages (from boto3>=1.24.56->pycaret[full]) (1.0.1)\n",
            "Requirement already satisfied: s3transfer<0.14.0,>=0.13.0 in /usr/local/lib/python3.11/dist-packages (from boto3>=1.24.56->pycaret[full]) (0.13.0)\n",
            "Requirement already satisfied: graphviz in /usr/local/lib/python3.11/dist-packages (from catboost>=0.23.2->pycaret[full]) (0.20.3)\n",
            "Requirement already satisfied: six in /usr/local/lib/python3.11/dist-packages (from catboost>=0.23.2->pycaret[full]) (1.17.0)\n",
            "Requirement already satisfied: patsy>=0.5.1 in /usr/local/lib/python3.11/dist-packages (from category-encoders>=2.4.0->pycaret[full]) (1.0.1)\n",
            "Requirement already satisfied: click>=8.1 in /usr/local/lib/python3.11/dist-packages (from dask>=2024.4.1->pycaret[full]) (8.2.1)\n",
            "Requirement already satisfied: fsspec>=2021.09.0 in /usr/local/lib/python3.11/dist-packages (from dask>=2024.4.1->pycaret[full]) (2025.3.2)\n",
            "Requirement already satisfied: partd>=1.4.0 in /usr/local/lib/python3.11/dist-packages (from dask>=2024.4.1->pycaret[full]) (1.4.2)\n",
            "Requirement already satisfied: toolz>=0.10.0 in /usr/local/lib/python3.11/dist-packages (from dask>=2024.4.1->pycaret[full]) (0.12.1)\n",
            "Requirement already satisfied: locket>=1.0.0 in /usr/local/lib/python3.11/dist-packages (from distributed>=2024.4.1->pycaret[full]) (1.0.0)\n",
            "Requirement already satisfied: msgpack>=1.0.2 in /usr/local/lib/python3.11/dist-packages (from distributed>=2024.4.1->pycaret[full]) (1.1.0)\n",
            "Requirement already satisfied: sortedcontainers>=2.0.5 in /usr/local/lib/python3.11/dist-packages (from distributed>=2024.4.1->pycaret[full]) (2.4.0)\n",
            "Requirement already satisfied: tblib>=1.6.0 in /usr/local/lib/python3.11/dist-packages (from distributed>=2024.4.1->pycaret[full]) (3.1.0)\n",
            "Requirement already satisfied: tornado>=6.2.0 in /usr/local/lib/python3.11/dist-packages (from distributed>=2024.4.1->pycaret[full]) (6.4.2)\n",
            "Requirement already satisfied: urllib3>=1.26.5 in /usr/local/lib/python3.11/dist-packages (from distributed>=2024.4.1->pycaret[full]) (1.26.20)\n",
            "Requirement already satisfied: zict>=3.0.0 in /usr/local/lib/python3.11/dist-packages (from distributed>=2024.4.1->pycaret[full]) (3.0.0)\n",
            "Requirement already satisfied: nltk>=3.6.7 in /usr/local/lib/python3.11/dist-packages (from evidently~=0.4.16->pycaret[full]) (3.9.1)\n",
            "Requirement already satisfied: pydantic>=1.10.13 in /usr/local/lib/python3.11/dist-packages (from evidently~=0.4.16->pycaret[full]) (2.11.4)\n",
            "Requirement already satisfied: litestar>=2.8.3 in /usr/local/lib/python3.11/dist-packages (from evidently~=0.4.16->pycaret[full]) (2.16.0)\n",
            "Requirement already satisfied: typing-inspect>=0.9.0 in /usr/local/lib/python3.11/dist-packages (from evidently~=0.4.16->pycaret[full]) (0.9.0)\n",
            "Requirement already satisfied: watchdog>=3.0.0 in /usr/local/lib/python3.11/dist-packages (from evidently~=0.4.16->pycaret[full]) (6.0.0)\n",
            "Requirement already satisfied: typer>=0.3 in /usr/local/lib/python3.11/dist-packages (from evidently~=0.4.16->pycaret[full]) (0.15.3)\n",
            "Requirement already satisfied: rich>=13 in /usr/local/lib/python3.11/dist-packages (from evidently~=0.4.16->pycaret[full]) (13.9.4)\n",
            "Requirement already satisfied: iterative-telemetry>=0.0.5 in /usr/local/lib/python3.11/dist-packages (from evidently~=0.4.16->pycaret[full]) (0.0.10)\n",
            "Requirement already satisfied: dynaconf>=3.2.4 in /usr/local/lib/python3.11/dist-packages (from evidently~=0.4.16->pycaret[full]) (3.2.11)\n",
            "Requirement already satisfied: certifi>=2024.7.4 in /usr/local/lib/python3.11/dist-packages (from evidently~=0.4.16->pycaret[full]) (2025.4.26)\n",
            "Requirement already satisfied: ujson>=5.4.0 in /usr/local/lib/python3.11/dist-packages (from evidently~=0.4.16->pycaret[full]) (5.10.0)\n",
            "Requirement already satisfied: uuid6>=2024.7.10 in /usr/local/lib/python3.11/dist-packages (from evidently~=0.4.16->pycaret[full]) (2024.7.10)\n",
            "Requirement already satisfied: cryptography>=43.0.1 in /usr/local/lib/python3.11/dist-packages (from evidently~=0.4.16->pycaret[full]) (43.0.3)\n",
            "Requirement already satisfied: dash-auth in /usr/local/lib/python3.11/dist-packages (from explainerdashboard>=0.3.8->pycaret[full]) (2.3.0)\n",
            "Requirement already satisfied: dash-bootstrap-components>=1 in /usr/local/lib/python3.11/dist-packages (from explainerdashboard>=0.3.8->pycaret[full]) (1.7.1)\n",
            "Requirement already satisfied: dtreeviz>=2.1 in /usr/local/lib/python3.11/dist-packages (from explainerdashboard>=0.3.8->pycaret[full]) (2.2.2)\n",
            "Requirement already satisfied: flask_simplelogin in /usr/local/lib/python3.11/dist-packages (from explainerdashboard>=0.3.8->pycaret[full]) (0.2.0)\n",
            "Requirement already satisfied: Flask-WTF>=1.1 in /usr/local/lib/python3.11/dist-packages (from explainerdashboard>=0.3.8->pycaret[full]) (1.2.2)\n",
            "Requirement already satisfied: jupyter_dash>=0.4.1 in /usr/local/lib/python3.11/dist-packages (from explainerdashboard>=0.3.8->pycaret[full]) (0.4.2)\n",
            "Requirement already satisfied: oyaml in /usr/local/lib/python3.11/dist-packages (from explainerdashboard>=0.3.8->pycaret[full]) (1.0)\n",
            "Requirement already satisfied: waitress in /usr/local/lib/python3.11/dist-packages (from explainerdashboard>=0.3.8->pycaret[full]) (3.0.2)\n",
            "Requirement already satisfied: triad>=0.9.3 in /usr/local/lib/python3.11/dist-packages (from fugue~=0.8.0->pycaret[full]) (0.9.8)\n",
            "Requirement already satisfied: adagio>=0.2.4 in /usr/local/lib/python3.11/dist-packages (from fugue~=0.8.0->pycaret[full]) (0.2.6)\n",
            "Requirement already satisfied: qpd>=0.4.4 in /usr/local/lib/python3.11/dist-packages (from fugue~=0.8.0->pycaret[full]) (0.4.4)\n",
            "Requirement already satisfied: fugue-sql-antlr>=0.1.6 in /usr/local/lib/python3.11/dist-packages (from fugue~=0.8.0->pycaret[full]) (0.2.2)\n",
            "Requirement already satisfied: sqlglot in /usr/local/lib/python3.11/dist-packages (from fugue~=0.8.0->pycaret[full]) (25.20.2)\n",
            "Requirement already satisfied: aiofiles<25.0,>=22.0 in /usr/local/lib/python3.11/dist-packages (from gradio>=3.50.2->pycaret[full]) (24.1.0)\n",
            "Requirement already satisfied: anyio<5.0,>=3.0 in /usr/local/lib/python3.11/dist-packages (from gradio>=3.50.2->pycaret[full]) (4.9.0)\n",
            "Requirement already satisfied: ffmpy in /usr/local/lib/python3.11/dist-packages (from gradio>=3.50.2->pycaret[full]) (0.5.0)\n",
            "Requirement already satisfied: gradio-client==1.10.2 in /usr/local/lib/python3.11/dist-packages (from gradio>=3.50.2->pycaret[full]) (1.10.2)\n",
            "Requirement already satisfied: groovy~=0.1 in /usr/local/lib/python3.11/dist-packages (from gradio>=3.50.2->pycaret[full]) (0.1.2)\n",
            "Requirement already satisfied: httpx>=0.24.1 in /usr/local/lib/python3.11/dist-packages (from gradio>=3.50.2->pycaret[full]) (0.28.1)\n",
            "Requirement already satisfied: huggingface-hub>=0.28.1 in /usr/local/lib/python3.11/dist-packages (from gradio>=3.50.2->pycaret[full]) (0.31.4)\n",
            "Requirement already satisfied: orjson~=3.0 in /usr/local/lib/python3.11/dist-packages (from gradio>=3.50.2->pycaret[full]) (3.10.18)\n",
            "Requirement already satisfied: pillow<12.0,>=8.0 in /usr/local/lib/python3.11/dist-packages (from gradio>=3.50.2->pycaret[full]) (11.2.1)\n",
            "Requirement already satisfied: pydub in /usr/local/lib/python3.11/dist-packages (from gradio>=3.50.2->pycaret[full]) (0.25.1)\n",
            "Requirement already satisfied: python-multipart>=0.0.18 in /usr/local/lib/python3.11/dist-packages (from gradio>=3.50.2->pycaret[full]) (0.0.20)\n",
            "Requirement already satisfied: ruff>=0.9.3 in /usr/local/lib/python3.11/dist-packages (from gradio>=3.50.2->pycaret[full]) (0.11.12)\n",
            "Requirement already satisfied: safehttpx<0.2.0,>=0.1.6 in /usr/local/lib/python3.11/dist-packages (from gradio>=3.50.2->pycaret[full]) (0.1.6)\n",
            "Requirement already satisfied: semantic-version~=2.0 in /usr/local/lib/python3.11/dist-packages (from gradio>=3.50.2->pycaret[full]) (2.10.0)\n",
            "Requirement already satisfied: starlette<1.0,>=0.40.0 in /usr/local/lib/python3.11/dist-packages (from gradio>=3.50.2->pycaret[full]) (0.46.2)\n",
            "Requirement already satisfied: tomlkit<0.14.0,>=0.12.0 in /usr/local/lib/python3.11/dist-packages (from gradio>=3.50.2->pycaret[full]) (0.13.2)\n",
            "Requirement already satisfied: typing-extensions~=4.0 in /usr/local/lib/python3.11/dist-packages (from gradio>=3.50.2->pycaret[full]) (4.13.2)\n",
            "Requirement already satisfied: websockets<16.0,>=10.0 in /usr/local/lib/python3.11/dist-packages (from gradio-client==1.10.2->gradio>=3.50.2->pycaret[full]) (15.0.1)\n",
            "Requirement already satisfied: networkx>=2.2 in /usr/local/lib/python3.11/dist-packages (from hyperopt>=0.2.7->pycaret[full]) (3.4.2)\n",
            "Requirement already satisfied: future in /usr/local/lib/python3.11/dist-packages (from hyperopt>=0.2.7->pycaret[full]) (1.0.0)\n",
            "Requirement already satisfied: py4j in /usr/local/lib/python3.11/dist-packages (from hyperopt>=0.2.7->pycaret[full]) (0.10.9.7)\n",
            "Requirement already satisfied: sklearn-compat<1,>=0.1 in /usr/local/lib/python3.11/dist-packages (from imbalanced-learn>=0.12.0->pycaret[full]) (0.1.3)\n",
            "Requirement already satisfied: threadpoolctl<4,>=2.0.0 in /usr/local/lib/python3.11/dist-packages (from imbalanced-learn>=0.12.0->pycaret[full]) (3.6.0)\n",
            "Requirement already satisfied: zipp>=3.20 in /usr/local/lib/python3.11/dist-packages (from importlib-metadata>=4.12.0->pycaret[full]) (3.21.0)\n",
            "Requirement already satisfied: interpret-core==0.6.10 in /usr/local/lib/python3.11/dist-packages (from interpret-core[aplr,dash,debug,linear,notebook,plotly,sensitivity,shap]==0.6.10->interpret>=0.2.7->pycaret[full]) (0.6.10)\n",
            "Requirement already satisfied: ipykernel>=4.10.0 in /usr/local/lib/python3.11/dist-packages (from interpret-core[aplr,dash,debug,linear,notebook,plotly,sensitivity,shap]==0.6.10->interpret>=0.2.7->pycaret[full]) (6.17.1)\n",
            "Requirement already satisfied: SALib>=1.3.3 in /usr/local/lib/python3.11/dist-packages (from interpret-core[aplr,dash,debug,linear,notebook,plotly,sensitivity,shap]==0.6.10->interpret>=0.2.7->pycaret[full]) (1.5.1)\n",
            "Requirement already satisfied: dill>=0.2.5 in /usr/local/lib/python3.11/dist-packages (from interpret-core[aplr,dash,debug,linear,notebook,plotly,sensitivity,shap]==0.6.10->interpret>=0.2.7->pycaret[full]) (0.3.7)\n",
            "Requirement already satisfied: aplr>=10.6.1 in /usr/local/lib/python3.11/dist-packages (from interpret-core[aplr,dash,debug,linear,notebook,plotly,sensitivity,shap]==0.6.10->interpret>=0.2.7->pycaret[full]) (10.9.0)\n",
            "Requirement already satisfied: dash-core-components>=1.0.0 in /usr/local/lib/python3.11/dist-packages (from interpret-core[aplr,dash,debug,linear,notebook,plotly,sensitivity,shap]==0.6.10->interpret>=0.2.7->pycaret[full]) (2.0.0)\n",
            "Requirement already satisfied: dash-html-components>=1.0.0 in /usr/local/lib/python3.11/dist-packages (from interpret-core[aplr,dash,debug,linear,notebook,plotly,sensitivity,shap]==0.6.10->interpret>=0.2.7->pycaret[full]) (2.0.0)\n",
            "Requirement already satisfied: dash-table>=4.1.0 in /usr/local/lib/python3.11/dist-packages (from interpret-core[aplr,dash,debug,linear,notebook,plotly,sensitivity,shap]==0.6.10->interpret>=0.2.7->pycaret[full]) (5.0.0)\n",
            "Requirement already satisfied: dash-cytoscape>=0.1.1 in /usr/local/lib/python3.11/dist-packages (from interpret-core[aplr,dash,debug,linear,notebook,plotly,sensitivity,shap]==0.6.10->interpret>=0.2.7->pycaret[full]) (1.0.2)\n",
            "Requirement already satisfied: gevent>=1.3.6 in /usr/local/lib/python3.11/dist-packages (from interpret-core[aplr,dash,debug,linear,notebook,plotly,sensitivity,shap]==0.6.10->interpret>=0.2.7->pycaret[full]) (25.5.1)\n",
            "Requirement already satisfied: setuptools>=18.5 in /usr/local/lib/python3.11/dist-packages (from ipython>=5.5.0->pycaret[full]) (75.2.0)\n",
            "Requirement already satisfied: jedi>=0.16 in /usr/local/lib/python3.11/dist-packages (from ipython>=5.5.0->pycaret[full]) (0.19.2)\n",
            "Requirement already satisfied: decorator in /usr/local/lib/python3.11/dist-packages (from ipython>=5.5.0->pycaret[full]) (4.4.2)\n",
            "Requirement already satisfied: pickleshare in /usr/local/lib/python3.11/dist-packages (from ipython>=5.5.0->pycaret[full]) (0.7.5)\n",
            "Requirement already satisfied: traitlets>=4.2 in /usr/local/lib/python3.11/dist-packages (from ipython>=5.5.0->pycaret[full]) (5.7.1)\n",
            "Requirement already satisfied: prompt-toolkit!=3.0.0,!=3.0.1,<3.1.0,>=2.0.0 in /usr/local/lib/python3.11/dist-packages (from ipython>=5.5.0->pycaret[full]) (3.0.51)\n",
            "Requirement already satisfied: pygments in /usr/local/lib/python3.11/dist-packages (from ipython>=5.5.0->pycaret[full]) (2.19.1)\n",
            "Requirement already satisfied: backcall in /usr/local/lib/python3.11/dist-packages (from ipython>=5.5.0->pycaret[full]) (0.2.0)\n",
            "Requirement already satisfied: matplotlib-inline in /usr/local/lib/python3.11/dist-packages (from ipython>=5.5.0->pycaret[full]) (0.1.7)\n",
            "Requirement already satisfied: pexpect>4.3 in /usr/local/lib/python3.11/dist-packages (from ipython>=5.5.0->pycaret[full]) (4.9.0)\n",
            "Requirement already satisfied: ipython-genutils~=0.2.0 in /usr/local/lib/python3.11/dist-packages (from ipywidgets>=7.6.5->pycaret[full]) (0.2.0)\n",
            "Requirement already satisfied: widgetsnbextension~=3.6.0 in /usr/local/lib/python3.11/dist-packages (from ipywidgets>=7.6.5->pycaret[full]) (3.6.10)\n",
            "Requirement already satisfied: jupyterlab-widgets>=1.0.0 in /usr/local/lib/python3.11/dist-packages (from ipywidgets>=7.6.5->pycaret[full]) (3.0.15)\n",
            "Requirement already satisfied: contourpy>=1.0.1 in /usr/local/lib/python3.11/dist-packages (from matplotlib<3.8.0->pycaret[full]) (1.3.2)\n",
            "Requirement already satisfied: cycler>=0.10 in /usr/local/lib/python3.11/dist-packages (from matplotlib<3.8.0->pycaret[full]) (0.12.1)\n",
            "Requirement already satisfied: fonttools>=4.22.0 in /usr/local/lib/python3.11/dist-packages (from matplotlib<3.8.0->pycaret[full]) (4.58.0)\n",
            "Requirement already satisfied: kiwisolver>=1.0.1 in /usr/local/lib/python3.11/dist-packages (from matplotlib<3.8.0->pycaret[full]) (1.4.8)\n",
            "Requirement already satisfied: pyparsing>=2.3.1 in /usr/local/lib/python3.11/dist-packages (from matplotlib<3.8.0->pycaret[full]) (3.2.3)\n",
            "Requirement already satisfied: python-dateutil>=2.7 in /usr/local/lib/python3.11/dist-packages (from matplotlib<3.8.0->pycaret[full]) (2.9.0.post0)\n",
            "Requirement already satisfied: mlflow-skinny==2.22.0 in /usr/local/lib/python3.11/dist-packages (from mlflow>=2.0.0->pycaret[full]) (2.22.0)\n",
            "Requirement already satisfied: alembic!=1.10.0,<2 in /usr/local/lib/python3.11/dist-packages (from mlflow>=2.0.0->pycaret[full]) (1.16.1)\n",
            "Requirement already satisfied: docker<8,>=4.0.0 in /usr/local/lib/python3.11/dist-packages (from mlflow>=2.0.0->pycaret[full]) (7.1.0)\n",
            "Requirement already satisfied: graphene<4 in /usr/local/lib/python3.11/dist-packages (from mlflow>=2.0.0->pycaret[full]) (3.4.3)\n",
            "Requirement already satisfied: gunicorn<24 in /usr/local/lib/python3.11/dist-packages (from mlflow>=2.0.0->pycaret[full]) (23.0.0)\n",
            "Requirement already satisfied: markdown<4,>=3.3 in /usr/local/lib/python3.11/dist-packages (from mlflow>=2.0.0->pycaret[full]) (3.8)\n",
            "Requirement already satisfied: pyarrow<20,>=4.0.0 in /usr/local/lib/python3.11/dist-packages (from mlflow>=2.0.0->pycaret[full]) (18.1.0)\n",
            "Requirement already satisfied: sqlalchemy<3,>=1.4.0 in /usr/local/lib/python3.11/dist-packages (from mlflow>=2.0.0->pycaret[full]) (2.0.41)\n",
            "Requirement already satisfied: cachetools<6,>=5.0.0 in /usr/local/lib/python3.11/dist-packages (from mlflow-skinny==2.22.0->mlflow>=2.0.0->pycaret[full]) (5.5.2)\n",
            "Requirement already satisfied: databricks-sdk<1,>=0.20.0 in /usr/local/lib/python3.11/dist-packages (from mlflow-skinny==2.22.0->mlflow>=2.0.0->pycaret[full]) (0.55.0)\n",
            "Requirement already satisfied: gitpython<4,>=3.1.9 in /usr/local/lib/python3.11/dist-packages (from mlflow-skinny==2.22.0->mlflow>=2.0.0->pycaret[full]) (3.1.44)\n",
            "Requirement already satisfied: opentelemetry-api<3,>=1.9.0 in /usr/local/lib/python3.11/dist-packages (from mlflow-skinny==2.22.0->mlflow>=2.0.0->pycaret[full]) (1.33.1)\n",
            "Requirement already satisfied: opentelemetry-sdk<3,>=1.9.0 in /usr/local/lib/python3.11/dist-packages (from mlflow-skinny==2.22.0->mlflow>=2.0.0->pycaret[full]) (1.33.1)\n",
            "Requirement already satisfied: protobuf<7,>=3.12.0 in /usr/local/lib/python3.11/dist-packages (from mlflow-skinny==2.22.0->mlflow>=2.0.0->pycaret[full]) (5.29.4)\n",
            "Requirement already satisfied: sqlparse<1,>=0.4.0 in /usr/local/lib/python3.11/dist-packages (from mlflow-skinny==2.22.0->mlflow>=2.0.0->pycaret[full]) (0.5.3)\n",
            "Requirement already satisfied: itsdangerous>=2.1.2 in /usr/local/lib/python3.11/dist-packages (from flask->pycaret[full]) (2.2.0)\n",
            "Requirement already satisfied: blinker>=1.6.2 in /usr/local/lib/python3.11/dist-packages (from flask->pycaret[full]) (1.9.0)\n",
            "Requirement already satisfied: xmltodict in /usr/local/lib/python3.11/dist-packages (from moto<5.0.0->pycaret[full]) (0.14.2)\n",
            "Requirement already satisfied: responses>=0.13.0 in /usr/local/lib/python3.11/dist-packages (from moto<5.0.0->pycaret[full]) (0.25.7)\n",
            "Requirement already satisfied: fastjsonschema>=2.15 in /usr/local/lib/python3.11/dist-packages (from nbformat>=4.2.0->pycaret[full]) (2.21.1)\n",
            "Requirement already satisfied: jsonschema>=2.6 in /usr/local/lib/python3.11/dist-packages (from nbformat>=4.2.0->pycaret[full]) (4.23.0)\n",
            "Requirement already satisfied: jupyter-core!=5.0.*,>=4.12 in /usr/local/lib/python3.11/dist-packages (from nbformat>=4.2.0->pycaret[full]) (5.7.2)\n",
            "Requirement already satisfied: llvmlite<0.44,>=0.43.0dev0 in /usr/local/lib/python3.11/dist-packages (from numba>=0.55.0->pycaret[full]) (0.43.0)\n",
            "Requirement already satisfied: colorlog in /usr/local/lib/python3.11/dist-packages (from optuna>=3.0.0->pycaret[full]) (6.9.0)\n",
            "Requirement already satisfied: pytz>=2020.1 in /usr/local/lib/python3.11/dist-packages (from pandas<2.2.0->pycaret[full]) (2025.2)\n",
            "Requirement already satisfied: tzdata>=2022.1 in /usr/local/lib/python3.11/dist-packages (from pandas<2.2.0->pycaret[full]) (2025.2)\n",
            "Requirement already satisfied: tenacity>=6.2.0 in /usr/local/lib/python3.11/dist-packages (from plotly>=5.14.0->pycaret[full]) (9.1.2)\n",
            "Requirement already satisfied: tsdownsample>=0.1.3 in /usr/local/lib/python3.11/dist-packages (from plotly-resampler>=0.8.3.1->pycaret[full]) (0.1.4.1)\n",
            "Requirement already satisfied: Cython!=0.29.18,!=0.29.31,>=0.29 in /usr/local/lib/python3.11/dist-packages (from pmdarima>=2.0.4->pycaret[full]) (3.0.12)\n",
            "Requirement already satisfied: iniconfig in /usr/local/lib/python3.11/dist-packages (from pytest<8.0.0->pycaret[full]) (2.1.0)\n",
            "Requirement already satisfied: pluggy<2.0,>=0.12 in /usr/local/lib/python3.11/dist-packages (from pytest<8.0.0->pycaret[full]) (1.6.0)\n",
            "Requirement already satisfied: charset-normalizer<4,>=2 in /usr/local/lib/python3.11/dist-packages (from requests>=2.27.1->pycaret[full]) (3.4.2)\n",
            "Requirement already satisfied: idna<4,>=2.5 in /usr/local/lib/python3.11/dist-packages (from requests>=2.27.1->pycaret[full]) (3.10)\n",
            "Requirement already satisfied: daal==2025.5.0 in /usr/local/lib/python3.11/dist-packages (from scikit-learn-intelex>=2023.0.1->pycaret[full]) (2025.5.0)\n",
            "Requirement already satisfied: tbb==2022.* in /usr/local/lib/python3.11/dist-packages (from daal==2025.5.0->scikit-learn-intelex>=2023.0.1->pycaret[full]) (2022.1.0)\n",
            "Requirement already satisfied: tcmlib==1.* in /usr/local/lib/python3.11/dist-packages (from tbb==2022.*->daal==2025.5.0->scikit-learn-intelex>=2023.0.1->pycaret[full]) (1.3.0)\n",
            "Requirement already satisfied: pyaml>=16.9 in /usr/local/lib/python3.11/dist-packages (from scikit-optimize>=0.9.0->pycaret[full]) (25.5.0)\n",
            "Requirement already satisfied: slicer==0.0.7 in /usr/local/lib/python3.11/dist-packages (from shap~=0.44.0->pycaret[full]) (0.0.7)\n",
            "Requirement already satisfied: pynndescent>=0.5 in /usr/local/lib/python3.11/dist-packages (from umap-learn>=0.5.2->pycaret[full]) (0.5.13)\n",
            "Requirement already satisfied: h11>=0.8 in /usr/local/lib/python3.11/dist-packages (from uvicorn>=0.17.6->pycaret[full]) (0.16.0)\n",
            "Requirement already satisfied: nvidia-nccl-cu12 in /usr/local/lib/python3.11/dist-packages (from xgboost>=1.1.0->pycaret[full]) (2.21.5)\n",
            "Requirement already satisfied: visions<0.8.2,>=0.7.5 in /usr/local/lib/python3.11/dist-packages (from visions[type_image_path]<0.8.2,>=0.7.5->ydata-profiling>=4.3.1->pycaret[full]) (0.8.1)\n",
            "Requirement already satisfied: htmlmin==0.1.12 in /usr/local/lib/python3.11/dist-packages (from ydata-profiling>=4.3.1->pycaret[full]) (0.1.12)\n",
            "Requirement already satisfied: phik<0.13,>=0.11.1 in /usr/local/lib/python3.11/dist-packages (from ydata-profiling>=4.3.1->pycaret[full]) (0.12.4)\n",
            "Requirement already satisfied: seaborn<0.14,>=0.10.1 in /usr/local/lib/python3.11/dist-packages (from ydata-profiling>=4.3.1->pycaret[full]) (0.13.2)\n",
            "Requirement already satisfied: multimethod<2,>=1.4 in /usr/local/lib/python3.11/dist-packages (from ydata-profiling>=4.3.1->pycaret[full]) (1.12)\n",
            "Requirement already satisfied: typeguard<5,>=3 in /usr/local/lib/python3.11/dist-packages (from ydata-profiling>=4.3.1->pycaret[full]) (4.4.2)\n",
            "Requirement already satisfied: imagehash==4.3.1 in /usr/local/lib/python3.11/dist-packages (from ydata-profiling>=4.3.1->pycaret[full]) (4.3.1)\n",
            "Requirement already satisfied: wordcloud>=1.9.3 in /usr/local/lib/python3.11/dist-packages (from ydata-profiling>=4.3.1->pycaret[full]) (1.9.4)\n",
            "Requirement already satisfied: dacite>=1.8 in /usr/local/lib/python3.11/dist-packages (from ydata-profiling>=4.3.1->pycaret[full]) (1.9.2)\n",
            "Requirement already satisfied: PyWavelets in /usr/local/lib/python3.11/dist-packages (from imagehash==4.3.1->ydata-profiling>=4.3.1->pycaret[full]) (1.8.0)\n",
            "Requirement already satisfied: retrying in /usr/local/lib/python3.11/dist-packages (from dash[testing]; extra == \"full\"->pycaret[full]) (1.3.4)\n",
            "Requirement already satisfied: nest-asyncio in /usr/local/lib/python3.11/dist-packages (from dash[testing]; extra == \"full\"->pycaret[full]) (1.6.0)\n",
            "Requirement already satisfied: beautifulsoup4>=4.8.2 in /usr/local/lib/python3.11/dist-packages (from dash[testing]; extra == \"full\"->pycaret[full]) (4.13.4)\n",
            "Requirement already satisfied: lxml>=4.6.2 in /usr/local/lib/python3.11/dist-packages (from dash[testing]; extra == \"full\"->pycaret[full]) (5.4.0)\n",
            "Requirement already satisfied: percy>=2.0.2 in /usr/local/lib/python3.11/dist-packages (from dash[testing]; extra == \"full\"->pycaret[full]) (2.0.2)\n",
            "Requirement already satisfied: selenium<=4.2.0,>=3.141.0 in /usr/local/lib/python3.11/dist-packages (from dash[testing]; extra == \"full\"->pycaret[full]) (4.2.0)\n",
            "Requirement already satisfied: multiprocess>=0.70.12 in /usr/local/lib/python3.11/dist-packages (from dash[testing]; extra == \"full\"->pycaret[full]) (0.70.15)\n",
            "Requirement already satisfied: dash-testing-stub>=0.0.2 in /usr/local/lib/python3.11/dist-packages (from dash[testing]; extra == \"full\"->pycaret[full]) (0.0.2)\n",
            "Requirement already satisfied: Mako in /usr/lib/python3/dist-packages (from alembic!=1.10.0,<2->mlflow>=2.0.0->pycaret[full]) (1.1.3)\n",
            "Requirement already satisfied: sniffio>=1.1 in /usr/local/lib/python3.11/dist-packages (from anyio<5.0,>=3.0->gradio>=3.50.2->pycaret[full]) (1.3.1)\n",
            "Requirement already satisfied: soupsieve>1.2 in /usr/local/lib/python3.11/dist-packages (from beautifulsoup4>=4.8.2->dash[testing]; extra == \"full\"->pycaret[full]) (2.7)\n",
            "Requirement already satisfied: cffi>=1.12 in /usr/local/lib/python3.11/dist-packages (from cryptography>=43.0.1->evidently~=0.4.16->pycaret[full]) (1.17.1)\n",
            "Requirement already satisfied: dask-expr<1.2,>=1.1 in /usr/local/lib/python3.11/dist-packages (from dask[dataframe,distributed]>=2023.5.0; extra == \"dask\"->fugue[dask]; extra == \"full\"->pycaret[full]) (1.1.21)\n",
            "Requirement already satisfied: colour in /usr/local/lib/python3.11/dist-packages (from dtreeviz>=2.1->explainerdashboard>=0.3.8->pycaret[full]) (0.1.5)\n",
            "Requirement already satisfied: wtforms in /usr/local/lib/python3.11/dist-packages (from Flask-WTF>=1.1->explainerdashboard>=0.3.8->pycaret[full]) (3.2.1)\n",
            "Requirement already satisfied: antlr4-python3-runtime<4.12 in /usr/local/lib/python3.11/dist-packages (from fugue-sql-antlr>=0.1.6->fugue~=0.8.0->pycaret[full]) (4.11.1)\n",
            "Requirement already satisfied: graphql-core<3.3,>=3.1 in /usr/local/lib/python3.11/dist-packages (from graphene<4->mlflow>=2.0.0->pycaret[full]) (3.2.6)\n",
            "Requirement already satisfied: graphql-relay<3.3,>=3.1 in /usr/local/lib/python3.11/dist-packages (from graphene<4->mlflow>=2.0.0->pycaret[full]) (3.2.0)\n",
            "Requirement already satisfied: httpcore==1.* in /usr/local/lib/python3.11/dist-packages (from httpx>=0.24.1->gradio>=3.50.2->pycaret[full]) (1.0.9)\n",
            "Requirement already satisfied: filelock in /usr/local/lib/python3.11/dist-packages (from huggingface-hub>=0.28.1->gradio>=3.50.2->pycaret[full]) (3.18.0)\n",
            "Requirement already satisfied: debugpy>=1.0 in /usr/local/lib/python3.11/dist-packages (from ipykernel>=4.10.0->interpret-core[aplr,dash,debug,linear,notebook,plotly,sensitivity,shap]==0.6.10->interpret>=0.2.7->pycaret[full]) (1.8.0)\n",
            "Requirement already satisfied: jupyter-client>=6.1.12 in /usr/local/lib/python3.11/dist-packages (from ipykernel>=4.10.0->interpret-core[aplr,dash,debug,linear,notebook,plotly,sensitivity,shap]==0.6.10->interpret>=0.2.7->pycaret[full]) (6.1.12)\n",
            "Requirement already satisfied: pyzmq>=17 in /usr/local/lib/python3.11/dist-packages (from ipykernel>=4.10.0->interpret-core[aplr,dash,debug,linear,notebook,plotly,sensitivity,shap]==0.6.10->interpret>=0.2.7->pycaret[full]) (24.0.1)\n",
            "Requirement already satisfied: appdirs in /usr/local/lib/python3.11/dist-packages (from iterative-telemetry>=0.0.5->evidently~=0.4.16->pycaret[full]) (1.4.4)\n",
            "Requirement already satisfied: distro in /usr/local/lib/python3.11/dist-packages (from iterative-telemetry>=0.0.5->evidently~=0.4.16->pycaret[full]) (1.9.0)\n",
            "Requirement already satisfied: parso<0.9.0,>=0.8.4 in /usr/local/lib/python3.11/dist-packages (from jedi>=0.16->ipython>=5.5.0->pycaret[full]) (0.8.4)\n",
            "Requirement already satisfied: attrs>=22.2.0 in /usr/local/lib/python3.11/dist-packages (from jsonschema>=2.6->nbformat>=4.2.0->pycaret[full]) (25.3.0)\n",
            "Requirement already satisfied: jsonschema-specifications>=2023.03.6 in /usr/local/lib/python3.11/dist-packages (from jsonschema>=2.6->nbformat>=4.2.0->pycaret[full]) (2025.4.1)\n",
            "Requirement already satisfied: referencing>=0.28.4 in /usr/local/lib/python3.11/dist-packages (from jsonschema>=2.6->nbformat>=4.2.0->pycaret[full]) (0.36.2)\n",
            "Requirement already satisfied: rpds-py>=0.7.1 in /usr/local/lib/python3.11/dist-packages (from jsonschema>=2.6->nbformat>=4.2.0->pycaret[full]) (0.25.1)\n",
            "Requirement already satisfied: platformdirs>=2.5 in /usr/local/lib/python3.11/dist-packages (from jupyter-core!=5.0.*,>=4.12->nbformat>=4.2.0->pycaret[full]) (4.3.8)\n",
            "Requirement already satisfied: ansi2html in /usr/local/lib/python3.11/dist-packages (from jupyter_dash>=0.4.1->explainerdashboard>=0.3.8->pycaret[full]) (1.9.2)\n",
            "Requirement already satisfied: litestar-htmx>=0.4.0 in /usr/local/lib/python3.11/dist-packages (from litestar>=2.8.3->evidently~=0.4.16->pycaret[full]) (0.4.1)\n",
            "Requirement already satisfied: msgspec>=0.18.2 in /usr/local/lib/python3.11/dist-packages (from litestar>=2.8.3->evidently~=0.4.16->pycaret[full]) (0.19.0)\n",
            "Requirement already satisfied: multidict>=6.0.2 in /usr/local/lib/python3.11/dist-packages (from litestar>=2.8.3->evidently~=0.4.16->pycaret[full]) (6.4.4)\n",
            "Requirement already satisfied: multipart>=1.2.0 in /usr/local/lib/python3.11/dist-packages (from litestar>=2.8.3->evidently~=0.4.16->pycaret[full]) (1.2.1)\n",
            "Requirement already satisfied: polyfactory>=2.6.3 in /usr/local/lib/python3.11/dist-packages (from litestar>=2.8.3->evidently~=0.4.16->pycaret[full]) (2.21.0)\n",
            "Requirement already satisfied: rich-click in /usr/local/lib/python3.11/dist-packages (from litestar>=2.8.3->evidently~=0.4.16->pycaret[full]) (1.8.9)\n",
            "Requirement already satisfied: regex>=2021.8.3 in /usr/local/lib/python3.11/dist-packages (from nltk>=3.6.7->evidently~=0.4.16->pycaret[full]) (2024.11.6)\n",
            "Requirement already satisfied: ptyprocess>=0.5 in /usr/local/lib/python3.11/dist-packages (from pexpect>4.3->ipython>=5.5.0->pycaret[full]) (0.7.0)\n",
            "Requirement already satisfied: wcwidth in /usr/local/lib/python3.11/dist-packages (from prompt-toolkit!=3.0.0,!=3.0.1,<3.1.0,>=2.0.0->ipython>=5.5.0->pycaret[full]) (0.2.13)\n",
            "Requirement already satisfied: annotated-types>=0.6.0 in /usr/local/lib/python3.11/dist-packages (from pydantic>=1.10.13->evidently~=0.4.16->pycaret[full]) (0.7.0)\n",
            "Requirement already satisfied: pydantic-core==2.33.2 in /usr/local/lib/python3.11/dist-packages (from pydantic>=1.10.13->evidently~=0.4.16->pycaret[full]) (2.33.2)\n",
            "Requirement already satisfied: typing-inspection>=0.4.0 in /usr/local/lib/python3.11/dist-packages (from pydantic>=1.10.13->evidently~=0.4.16->pycaret[full]) (0.4.1)\n",
            "Requirement already satisfied: markdown-it-py>=2.2.0 in /usr/local/lib/python3.11/dist-packages (from rich>=13->evidently~=0.4.16->pycaret[full]) (3.0.0)\n",
            "Requirement already satisfied: trio~=0.17 in /usr/local/lib/python3.11/dist-packages (from selenium<=4.2.0,>=3.141.0->dash[testing]; extra == \"full\"->pycaret[full]) (0.30.0)\n",
            "Requirement already satisfied: trio-websocket~=0.9 in /usr/local/lib/python3.11/dist-packages (from selenium<=4.2.0,>=3.141.0->dash[testing]; extra == \"full\"->pycaret[full]) (0.12.2)\n",
            "Requirement already satisfied: greenlet>=1 in /usr/local/lib/python3.11/dist-packages (from sqlalchemy<3,>=1.4.0->mlflow>=2.0.0->pycaret[full]) (3.2.2)\n",
            "Requirement already satisfied: fs in /usr/local/lib/python3.11/dist-packages (from triad>=0.9.3->fugue~=0.8.0->pycaret[full]) (2.4.16)\n",
            "Requirement already satisfied: shellingham>=1.3.0 in /usr/local/lib/python3.11/dist-packages (from typer>=0.3->evidently~=0.4.16->pycaret[full]) (1.5.4)\n",
            "Requirement already satisfied: mypy-extensions>=0.3.0 in /usr/local/lib/python3.11/dist-packages (from typing-inspect>=0.9.0->evidently~=0.4.16->pycaret[full]) (1.1.0)\n",
            "Requirement already satisfied: httptools>=0.6.3 in /usr/local/lib/python3.11/dist-packages (from uvicorn[standard]>=0.22.0->evidently~=0.4.16->pycaret[full]) (0.6.4)\n",
            "Requirement already satisfied: python-dotenv>=0.13 in /usr/local/lib/python3.11/dist-packages (from uvicorn[standard]>=0.22.0->evidently~=0.4.16->pycaret[full]) (1.1.0)\n",
            "Requirement already satisfied: uvloop!=0.15.0,!=0.15.1,>=0.14.0 in /usr/local/lib/python3.11/dist-packages (from uvicorn[standard]>=0.22.0->evidently~=0.4.16->pycaret[full]) (0.21.0)\n",
            "Requirement already satisfied: watchfiles>=0.13 in /usr/local/lib/python3.11/dist-packages (from uvicorn[standard]>=0.22.0->evidently~=0.4.16->pycaret[full]) (1.0.5)\n",
            "Requirement already satisfied: puremagic in /usr/local/lib/python3.11/dist-packages (from visions<0.8.2,>=0.7.5->visions[type_image_path]<0.8.2,>=0.7.5->ydata-profiling>=4.3.1->pycaret[full]) (1.29)\n",
            "Requirement already satisfied: notebook>=4.4.1 in /usr/local/lib/python3.11/dist-packages (from widgetsnbextension~=3.6.0->ipywidgets>=7.6.5->pycaret[full]) (6.5.7)\n",
            "Requirement already satisfied: pycparser in /usr/local/lib/python3.11/dist-packages (from cffi>=1.12->cryptography>=43.0.1->evidently~=0.4.16->pycaret[full]) (2.22)\n",
            "Requirement already satisfied: google-auth~=2.0 in /usr/local/lib/python3.11/dist-packages (from databricks-sdk<1,>=0.20.0->mlflow-skinny==2.22.0->mlflow>=2.0.0->pycaret[full]) (2.38.0)\n",
            "Requirement already satisfied: zope.event in /usr/local/lib/python3.11/dist-packages (from gevent>=1.3.6->interpret-core[aplr,dash,debug,linear,notebook,plotly,sensitivity,shap]==0.6.10->interpret>=0.2.7->pycaret[full]) (5.0)\n",
            "Requirement already satisfied: zope.interface in /usr/local/lib/python3.11/dist-packages (from gevent>=1.3.6->interpret-core[aplr,dash,debug,linear,notebook,plotly,sensitivity,shap]==0.6.10->interpret>=0.2.7->pycaret[full]) (7.2)\n",
            "Requirement already satisfied: gitdb<5,>=4.0.1 in /usr/local/lib/python3.11/dist-packages (from gitpython<4,>=3.1.9->mlflow-skinny==2.22.0->mlflow>=2.0.0->pycaret[full]) (4.0.12)\n",
            "Requirement already satisfied: mdurl~=0.1 in /usr/local/lib/python3.11/dist-packages (from markdown-it-py>=2.2.0->rich>=13->evidently~=0.4.16->pycaret[full]) (0.1.2)\n",
            "Requirement already satisfied: argon2-cffi in /usr/local/lib/python3.11/dist-packages (from notebook>=4.4.1->widgetsnbextension~=3.6.0->ipywidgets>=7.6.5->pycaret[full]) (23.1.0)\n",
            "Requirement already satisfied: nbconvert>=5 in /usr/local/lib/python3.11/dist-packages (from notebook>=4.4.1->widgetsnbextension~=3.6.0->ipywidgets>=7.6.5->pycaret[full]) (7.16.6)\n",
            "Requirement already satisfied: Send2Trash>=1.8.0 in /usr/local/lib/python3.11/dist-packages (from notebook>=4.4.1->widgetsnbextension~=3.6.0->ipywidgets>=7.6.5->pycaret[full]) (1.8.3)\n",
            "Requirement already satisfied: terminado>=0.8.3 in /usr/local/lib/python3.11/dist-packages (from notebook>=4.4.1->widgetsnbextension~=3.6.0->ipywidgets>=7.6.5->pycaret[full]) (0.18.1)\n",
            "Requirement already satisfied: prometheus-client in /usr/local/lib/python3.11/dist-packages (from notebook>=4.4.1->widgetsnbextension~=3.6.0->ipywidgets>=7.6.5->pycaret[full]) (0.22.0)\n",
            "Requirement already satisfied: nbclassic>=0.4.7 in /usr/local/lib/python3.11/dist-packages (from notebook>=4.4.1->widgetsnbextension~=3.6.0->ipywidgets>=7.6.5->pycaret[full]) (1.3.1)\n",
            "Requirement already satisfied: deprecated>=1.2.6 in /usr/local/lib/python3.11/dist-packages (from opentelemetry-api<3,>=1.9.0->mlflow-skinny==2.22.0->mlflow>=2.0.0->pycaret[full]) (1.2.18)\n",
            "Requirement already satisfied: opentelemetry-semantic-conventions==0.54b1 in /usr/local/lib/python3.11/dist-packages (from opentelemetry-sdk<3,>=1.9.0->mlflow-skinny==2.22.0->mlflow>=2.0.0->pycaret[full]) (0.54b1)\n",
            "Requirement already satisfied: faker>=5.0.0 in /usr/local/lib/python3.11/dist-packages (from polyfactory>=2.6.3->litestar>=2.8.3->evidently~=0.4.16->pycaret[full]) (37.3.0)\n",
            "Requirement already satisfied: outcome in /usr/local/lib/python3.11/dist-packages (from trio~=0.17->selenium<=4.2.0,>=3.141.0->dash[testing]; extra == \"full\"->pycaret[full]) (1.3.0.post0)\n",
            "Requirement already satisfied: wsproto>=0.14 in /usr/local/lib/python3.11/dist-packages (from trio-websocket~=0.9->selenium<=4.2.0,>=3.141.0->dash[testing]; extra == \"full\"->pycaret[full]) (1.2.0)\n",
            "Requirement already satisfied: pyOpenSSL>=0.14 in /usr/local/lib/python3.11/dist-packages (from urllib3[secure,socks]~=1.26->selenium<=4.2.0,>=3.141.0->dash[testing]; extra == \"full\"->pycaret[full]) (24.2.1)\n",
            "Requirement already satisfied: urllib3-secure-extra in /usr/local/lib/python3.11/dist-packages (from urllib3[secure,socks]~=1.26->selenium<=4.2.0,>=3.141.0->dash[testing]; extra == \"full\"->pycaret[full]) (0.1.0)\n",
            "Requirement already satisfied: PySocks!=1.5.7,<2.0,>=1.5.6 in /usr/local/lib/python3.11/dist-packages (from urllib3[secure,socks]~=1.26->selenium<=4.2.0,>=3.141.0->dash[testing]; extra == \"full\"->pycaret[full]) (1.7.1)\n",
            "Requirement already satisfied: wrapt<2,>=1.10 in /usr/local/lib/python3.11/dist-packages (from deprecated>=1.2.6->opentelemetry-api<3,>=1.9.0->mlflow-skinny==2.22.0->mlflow>=2.0.0->pycaret[full]) (1.17.2)\n",
            "Requirement already satisfied: smmap<6,>=3.0.1 in /usr/local/lib/python3.11/dist-packages (from gitdb<5,>=4.0.1->gitpython<4,>=3.1.9->mlflow-skinny==2.22.0->mlflow>=2.0.0->pycaret[full]) (5.0.2)\n",
            "Requirement already satisfied: pyasn1-modules>=0.2.1 in /usr/local/lib/python3.11/dist-packages (from google-auth~=2.0->databricks-sdk<1,>=0.20.0->mlflow-skinny==2.22.0->mlflow>=2.0.0->pycaret[full]) (0.4.2)\n",
            "Requirement already satisfied: rsa<5,>=3.1.4 in /usr/local/lib/python3.11/dist-packages (from google-auth~=2.0->databricks-sdk<1,>=0.20.0->mlflow-skinny==2.22.0->mlflow>=2.0.0->pycaret[full]) (4.9.1)\n",
            "Requirement already satisfied: notebook-shim>=0.2.3 in /usr/local/lib/python3.11/dist-packages (from nbclassic>=0.4.7->notebook>=4.4.1->widgetsnbextension~=3.6.0->ipywidgets>=7.6.5->pycaret[full]) (0.2.4)\n",
            "Requirement already satisfied: bleach!=5.0.0 in /usr/local/lib/python3.11/dist-packages (from bleach[css]!=5.0.0->nbconvert>=5->notebook>=4.4.1->widgetsnbextension~=3.6.0->ipywidgets>=7.6.5->pycaret[full]) (6.2.0)\n",
            "Requirement already satisfied: defusedxml in /usr/local/lib/python3.11/dist-packages (from nbconvert>=5->notebook>=4.4.1->widgetsnbextension~=3.6.0->ipywidgets>=7.6.5->pycaret[full]) (0.7.1)\n",
            "Requirement already satisfied: jupyterlab-pygments in /usr/local/lib/python3.11/dist-packages (from nbconvert>=5->notebook>=4.4.1->widgetsnbextension~=3.6.0->ipywidgets>=7.6.5->pycaret[full]) (0.3.0)\n",
            "Requirement already satisfied: mistune<4,>=2.0.3 in /usr/local/lib/python3.11/dist-packages (from nbconvert>=5->notebook>=4.4.1->widgetsnbextension~=3.6.0->ipywidgets>=7.6.5->pycaret[full]) (3.1.3)\n",
            "Requirement already satisfied: nbclient>=0.5.0 in /usr/local/lib/python3.11/dist-packages (from nbconvert>=5->notebook>=4.4.1->widgetsnbextension~=3.6.0->ipywidgets>=7.6.5->pycaret[full]) (0.10.2)\n",
            "Requirement already satisfied: pandocfilters>=1.4.1 in /usr/local/lib/python3.11/dist-packages (from nbconvert>=5->notebook>=4.4.1->widgetsnbextension~=3.6.0->ipywidgets>=7.6.5->pycaret[full]) (1.5.1)\n",
            "Requirement already satisfied: argon2-cffi-bindings in /usr/local/lib/python3.11/dist-packages (from argon2-cffi->notebook>=4.4.1->widgetsnbextension~=3.6.0->ipywidgets>=7.6.5->pycaret[full]) (21.2.0)\n",
            "Requirement already satisfied: webencodings in /usr/local/lib/python3.11/dist-packages (from bleach!=5.0.0->bleach[css]!=5.0.0->nbconvert>=5->notebook>=4.4.1->widgetsnbextension~=3.6.0->ipywidgets>=7.6.5->pycaret[full]) (0.5.1)\n",
            "Requirement already satisfied: tinycss2<1.5,>=1.1.0 in /usr/local/lib/python3.11/dist-packages (from bleach[css]!=5.0.0->nbconvert>=5->notebook>=4.4.1->widgetsnbextension~=3.6.0->ipywidgets>=7.6.5->pycaret[full]) (1.4.0)\n",
            "Requirement already satisfied: jupyter-server<3,>=1.8 in /usr/local/lib/python3.11/dist-packages (from notebook-shim>=0.2.3->nbclassic>=0.4.7->notebook>=4.4.1->widgetsnbextension~=3.6.0->ipywidgets>=7.6.5->pycaret[full]) (1.16.0)\n",
            "Requirement already satisfied: pyasn1<0.7.0,>=0.6.1 in /usr/local/lib/python3.11/dist-packages (from pyasn1-modules>=0.2.1->google-auth~=2.0->databricks-sdk<1,>=0.20.0->mlflow-skinny==2.22.0->mlflow>=2.0.0->pycaret[full]) (0.6.1)\n",
            "Requirement already satisfied: websocket-client in /usr/local/lib/python3.11/dist-packages (from jupyter-server<3,>=1.8->notebook-shim>=0.2.3->nbclassic>=0.4.7->notebook>=4.4.1->widgetsnbextension~=3.6.0->ipywidgets>=7.6.5->pycaret[full]) (1.8.0)\n"
          ]
        }
      ],
      "source": [
        "!pip install pycaret[full]"
      ]
    },
    {
      "cell_type": "markdown",
      "source": [
        "# Import libraries\n"
      ],
      "metadata": {
        "id": "SOa2FUq94eM8"
      }
    },
    {
      "cell_type": "code",
      "source": [
        "import pandas as pd\n",
        "import numpy as np\n",
        "import matplotlib.pyplot as plt\n",
        "import seaborn as sns\n",
        "from sklearn.preprocessing import LabelEncoder\n",
        "from google.colab import drive\n",
        "drive.mount('/content/drive')"
      ],
      "metadata": {
        "colab": {
          "base_uri": "https://localhost:8080/"
        },
        "id": "qlkCOAmbXpog",
        "outputId": "662ee71b-ec3b-4510-dddd-c97fe3c49412"
      },
      "execution_count": null,
      "outputs": [
        {
          "output_type": "stream",
          "name": "stdout",
          "text": [
            "Mounted at /content/drive\n"
          ]
        }
      ]
    },
    {
      "cell_type": "markdown",
      "source": [
        "# Load data\n"
      ],
      "metadata": {
        "id": "XQk3tLhA4fq8"
      }
    },
    {
      "cell_type": "code",
      "source": [
        "df = pd.read_csv('/content/drive/MyDrive/dataset/weatherHistory.csv')\n"
      ],
      "metadata": {
        "id": "yzgB07q7XuhI"
      },
      "execution_count": null,
      "outputs": []
    },
    {
      "cell_type": "markdown",
      "source": [
        "# Drop unnecessary columns\n"
      ],
      "metadata": {
        "id": "48yWM_7h4jI9"
      }
    },
    {
      "cell_type": "code",
      "source": [
        "drop_cols = ['Formatted Date', 'Loud Cover', 'Precip Type', 'Daily Summary']\n",
        "df.drop(columns=[col for col in drop_cols if col in df.columns], inplace=True, errors='ignore')\n"
      ],
      "metadata": {
        "id": "BnJaKN5AXzFR"
      },
      "execution_count": null,
      "outputs": []
    },
    {
      "cell_type": "markdown",
      "source": [
        "# Handle missing values\n"
      ],
      "metadata": {
        "id": "vmFuvKBi4mJ_"
      }
    },
    {
      "cell_type": "code",
      "source": [
        "df.fillna(df.mean(numeric_only=True), inplace=True)\n"
      ],
      "metadata": {
        "id": "imhIG_vnX2fK"
      },
      "execution_count": null,
      "outputs": []
    },
    {
      "cell_type": "markdown",
      "source": [
        "# Group similar weather summaries to reduce label noise\n"
      ],
      "metadata": {
        "id": "npB2OCYs4s8Y"
      }
    },
    {
      "cell_type": "code",
      "source": [
        "def simplify_summary(summary):\n",
        "    summary = summary.lower()\n",
        "    if 'cloudy' in summary:\n",
        "        return 'cloudy'\n",
        "    elif 'clear' in summary:\n",
        "        return 'clear'\n",
        "    elif 'rain' in summary:\n",
        "        return 'rain'\n",
        "    elif 'fog' in summary:\n",
        "        return 'foggy'\n",
        "    elif 'drizzle' in summary:\n",
        "        return 'drizzle'\n",
        "    elif 'snow' in summary:\n",
        "        return 'snow'\n",
        "    else:\n",
        "        return 'other'\n",
        "\n",
        "df['Simple_Summary'] = df['Summary'].apply(simplify_summary)\n"
      ],
      "metadata": {
        "id": "AWOinZ-YX32x"
      },
      "execution_count": null,
      "outputs": []
    },
    {
      "cell_type": "markdown",
      "source": [
        "# Label encode target\n"
      ],
      "metadata": {
        "id": "4dqs1ERo4xRO"
      }
    },
    {
      "cell_type": "code",
      "source": [
        "le = LabelEncoder()\n",
        "df['Summary_encoded'] = le.fit_transform(df['Simple_Summary'])\n"
      ],
      "metadata": {
        "id": "D__h31m5X7Sy"
      },
      "execution_count": null,
      "outputs": []
    },
    {
      "cell_type": "markdown",
      "source": [
        "# Drop the original summary columns\n"
      ],
      "metadata": {
        "id": "ddGXpNe042Xn"
      }
    },
    {
      "cell_type": "code",
      "source": [
        "df.drop(columns=['Summary', 'Simple_Summary'], inplace=True)\n"
      ],
      "metadata": {
        "id": "BDc0HkpjYADD"
      },
      "execution_count": null,
      "outputs": []
    },
    {
      "cell_type": "markdown",
      "source": [
        "# Drop classes with fewer than 50 samples\n"
      ],
      "metadata": {
        "id": "m03fUKVq47Pg"
      }
    },
    {
      "cell_type": "code",
      "source": [
        "class_counts = df['Summary_encoded'].value_counts()\n",
        "valid_classes = class_counts[class_counts >= 50].index\n",
        "df_filtered = df[df['Summary_encoded'].isin(valid_classes)]\n"
      ],
      "metadata": {
        "id": "TWO6iq8oYDIq"
      },
      "execution_count": null,
      "outputs": []
    },
    {
      "cell_type": "markdown",
      "source": [
        "# Feature engineering\n"
      ],
      "metadata": {
        "id": "qn_zg2dQ49_A"
      }
    },
    {
      "cell_type": "code",
      "source": [
        "df_filtered.loc[:, 'ApparentTempDiff'] = df_filtered['Apparent Temperature (C)'] - df_filtered['Temperature (C)']\n",
        "df_filtered.loc[:, 'Humidity*Pressure'] = df_filtered['Humidity'] * df_filtered['Pressure (millibars)']\n"
      ],
      "metadata": {
        "id": "YrsZJsfaYGdj"
      },
      "execution_count": null,
      "outputs": []
    },
    {
      "cell_type": "markdown",
      "source": [
        "# PyCaret Classification\n"
      ],
      "metadata": {
        "id": "KM_yhL6Y5DER"
      }
    },
    {
      "cell_type": "code",
      "source": [
        "from pycaret.classification import *\n",
        "\n",
        "clf = setup(data=df_filtered,\n",
        "            target='Summary_encoded',\n",
        "            session_id=123,\n",
        "            fix_imbalance=True,\n",
        "            fix_imbalance_method='smote',\n",
        "            verbose=False)\n"
      ],
      "metadata": {
        "id": "vR63L82OYN-0"
      },
      "execution_count": null,
      "outputs": []
    },
    {
      "cell_type": "markdown",
      "source": [
        "# Compare models and get the best one\n"
      ],
      "metadata": {
        "id": "T9YsWQ2v5Hlp"
      }
    },
    {
      "cell_type": "code",
      "source": [
        "best_model = compare_models()\n"
      ],
      "metadata": {
        "colab": {
          "base_uri": "https://localhost:8080/",
          "height": 551,
          "referenced_widgets": [
            "3f927ed293af4b4d8fecc8fa561705ab",
            "75cc0e3248d74a13911f66415768f525",
            "9b10711b3a304f7a8b20c420c4b61a25",
            "659f99ee98674b81bf99a59e6205529e",
            "6d21e8e6ce93444cb74abf33a162cd6a",
            "e18ee86568f0427dbd0fed42dfaa07d2",
            "bb33e5a99a014f18ba72a36fd2e84c28",
            "9961967245bb47639795101c1f76b455",
            "7052f9142faf466a9dc1385b9fd11338",
            "dfefcf96ac504a5babfb35bd5a469e24",
            "464ee7bc2da54309a14d7519c8beece7"
          ]
        },
        "id": "JNS22CuUYRVk",
        "outputId": "f5853ac6-7b43-4dee-e685-8cf73187281e"
      },
      "execution_count": null,
      "outputs": [
        {
          "output_type": "display_data",
          "data": {
            "text/plain": [
              "<IPython.core.display.HTML object>"
            ],
            "text/html": []
          },
          "metadata": {}
        },
        {
          "output_type": "display_data",
          "data": {
            "text/plain": [
              "<pandas.io.formats.style.Styler at 0x7a5ce3b23510>"
            ],
            "text/html": [
              "<style type=\"text/css\">\n",
              "#T_f20d6 th {\n",
              "  text-align: left;\n",
              "}\n",
              "#T_f20d6_row0_col0, #T_f20d6_row0_col2, #T_f20d6_row0_col4, #T_f20d6_row1_col0, #T_f20d6_row1_col1, #T_f20d6_row1_col3, #T_f20d6_row1_col5, #T_f20d6_row1_col6, #T_f20d6_row1_col7, #T_f20d6_row2_col0, #T_f20d6_row2_col1, #T_f20d6_row2_col2, #T_f20d6_row2_col3, #T_f20d6_row2_col4, #T_f20d6_row2_col5, #T_f20d6_row2_col6, #T_f20d6_row2_col7, #T_f20d6_row3_col0, #T_f20d6_row3_col1, #T_f20d6_row3_col2, #T_f20d6_row3_col3, #T_f20d6_row3_col4, #T_f20d6_row3_col5, #T_f20d6_row3_col6, #T_f20d6_row3_col7, #T_f20d6_row4_col0, #T_f20d6_row4_col1, #T_f20d6_row4_col2, #T_f20d6_row4_col3, #T_f20d6_row4_col4, #T_f20d6_row4_col5, #T_f20d6_row4_col6, #T_f20d6_row4_col7, #T_f20d6_row5_col0, #T_f20d6_row5_col1, #T_f20d6_row5_col2, #T_f20d6_row5_col3, #T_f20d6_row5_col4, #T_f20d6_row5_col5, #T_f20d6_row5_col6, #T_f20d6_row5_col7, #T_f20d6_row6_col0, #T_f20d6_row6_col1, #T_f20d6_row6_col2, #T_f20d6_row6_col3, #T_f20d6_row6_col4, #T_f20d6_row6_col5, #T_f20d6_row6_col6, #T_f20d6_row6_col7, #T_f20d6_row7_col0, #T_f20d6_row7_col1, #T_f20d6_row7_col2, #T_f20d6_row7_col3, #T_f20d6_row7_col4, #T_f20d6_row7_col5, #T_f20d6_row7_col6, #T_f20d6_row7_col7, #T_f20d6_row8_col0, #T_f20d6_row8_col1, #T_f20d6_row8_col2, #T_f20d6_row8_col3, #T_f20d6_row8_col4, #T_f20d6_row8_col5, #T_f20d6_row8_col6, #T_f20d6_row8_col7, #T_f20d6_row9_col0, #T_f20d6_row9_col1, #T_f20d6_row9_col2, #T_f20d6_row9_col3, #T_f20d6_row9_col4, #T_f20d6_row9_col5, #T_f20d6_row9_col6, #T_f20d6_row9_col7, #T_f20d6_row10_col0, #T_f20d6_row10_col1, #T_f20d6_row10_col2, #T_f20d6_row10_col3, #T_f20d6_row10_col4, #T_f20d6_row10_col5, #T_f20d6_row10_col6, #T_f20d6_row10_col7, #T_f20d6_row11_col0, #T_f20d6_row11_col1, #T_f20d6_row11_col2, #T_f20d6_row11_col3, #T_f20d6_row11_col4, #T_f20d6_row11_col5, #T_f20d6_row11_col6, #T_f20d6_row11_col7, #T_f20d6_row12_col0, #T_f20d6_row12_col1, #T_f20d6_row12_col2, #T_f20d6_row12_col3, #T_f20d6_row12_col4, #T_f20d6_row12_col5, #T_f20d6_row12_col6, #T_f20d6_row12_col7, #T_f20d6_row13_col0, #T_f20d6_row13_col1, #T_f20d6_row13_col2, #T_f20d6_row13_col3, #T_f20d6_row13_col4, #T_f20d6_row13_col5, #T_f20d6_row13_col6, #T_f20d6_row13_col7, #T_f20d6_row14_col0, #T_f20d6_row14_col1, #T_f20d6_row14_col2, #T_f20d6_row14_col3, #T_f20d6_row14_col4, #T_f20d6_row14_col5, #T_f20d6_row14_col6, #T_f20d6_row14_col7, #T_f20d6_row15_col0, #T_f20d6_row15_col1, #T_f20d6_row15_col2, #T_f20d6_row15_col3, #T_f20d6_row15_col4, #T_f20d6_row15_col5, #T_f20d6_row15_col6, #T_f20d6_row15_col7 {\n",
              "  text-align: left;\n",
              "}\n",
              "#T_f20d6_row0_col1, #T_f20d6_row0_col3, #T_f20d6_row0_col5, #T_f20d6_row0_col6, #T_f20d6_row0_col7, #T_f20d6_row1_col2, #T_f20d6_row1_col4 {\n",
              "  text-align: left;\n",
              "  background-color: yellow;\n",
              "}\n",
              "#T_f20d6_row0_col8, #T_f20d6_row1_col8, #T_f20d6_row2_col8, #T_f20d6_row3_col8, #T_f20d6_row4_col8, #T_f20d6_row5_col8, #T_f20d6_row6_col8, #T_f20d6_row7_col8, #T_f20d6_row8_col8, #T_f20d6_row9_col8, #T_f20d6_row10_col8, #T_f20d6_row11_col8, #T_f20d6_row12_col8, #T_f20d6_row13_col8, #T_f20d6_row14_col8 {\n",
              "  text-align: left;\n",
              "  background-color: lightgrey;\n",
              "}\n",
              "#T_f20d6_row15_col8 {\n",
              "  text-align: left;\n",
              "  background-color: yellow;\n",
              "  background-color: lightgrey;\n",
              "}\n",
              "</style>\n",
              "<table id=\"T_f20d6\" class=\"dataframe\">\n",
              "  <thead>\n",
              "    <tr>\n",
              "      <th class=\"blank level0\" >&nbsp;</th>\n",
              "      <th id=\"T_f20d6_level0_col0\" class=\"col_heading level0 col0\" >Model</th>\n",
              "      <th id=\"T_f20d6_level0_col1\" class=\"col_heading level0 col1\" >Accuracy</th>\n",
              "      <th id=\"T_f20d6_level0_col2\" class=\"col_heading level0 col2\" >AUC</th>\n",
              "      <th id=\"T_f20d6_level0_col3\" class=\"col_heading level0 col3\" >Recall</th>\n",
              "      <th id=\"T_f20d6_level0_col4\" class=\"col_heading level0 col4\" >Prec.</th>\n",
              "      <th id=\"T_f20d6_level0_col5\" class=\"col_heading level0 col5\" >F1</th>\n",
              "      <th id=\"T_f20d6_level0_col6\" class=\"col_heading level0 col6\" >Kappa</th>\n",
              "      <th id=\"T_f20d6_level0_col7\" class=\"col_heading level0 col7\" >MCC</th>\n",
              "      <th id=\"T_f20d6_level0_col8\" class=\"col_heading level0 col8\" >TT (Sec)</th>\n",
              "    </tr>\n",
              "  </thead>\n",
              "  <tbody>\n",
              "    <tr>\n",
              "      <th id=\"T_f20d6_level0_row0\" class=\"row_heading level0 row0\" >et</th>\n",
              "      <td id=\"T_f20d6_row0_col0\" class=\"data row0 col0\" >Extra Trees Classifier</td>\n",
              "      <td id=\"T_f20d6_row0_col1\" class=\"data row0 col1\" >0.7201</td>\n",
              "      <td id=\"T_f20d6_row0_col2\" class=\"data row0 col2\" >0.8411</td>\n",
              "      <td id=\"T_f20d6_row0_col3\" class=\"data row0 col3\" >0.7201</td>\n",
              "      <td id=\"T_f20d6_row0_col4\" class=\"data row0 col4\" >0.7290</td>\n",
              "      <td id=\"T_f20d6_row0_col5\" class=\"data row0 col5\" >0.7238</td>\n",
              "      <td id=\"T_f20d6_row0_col6\" class=\"data row0 col6\" >0.5042</td>\n",
              "      <td id=\"T_f20d6_row0_col7\" class=\"data row0 col7\" >0.5050</td>\n",
              "      <td id=\"T_f20d6_row0_col8\" class=\"data row0 col8\" >25.8040</td>\n",
              "    </tr>\n",
              "    <tr>\n",
              "      <th id=\"T_f20d6_level0_row1\" class=\"row_heading level0 row1\" >rf</th>\n",
              "      <td id=\"T_f20d6_row1_col0\" class=\"data row1 col0\" >Random Forest Classifier</td>\n",
              "      <td id=\"T_f20d6_row1_col1\" class=\"data row1 col1\" >0.7125</td>\n",
              "      <td id=\"T_f20d6_row1_col2\" class=\"data row1 col2\" >0.8430</td>\n",
              "      <td id=\"T_f20d6_row1_col3\" class=\"data row1 col3\" >0.7125</td>\n",
              "      <td id=\"T_f20d6_row1_col4\" class=\"data row1 col4\" >0.7326</td>\n",
              "      <td id=\"T_f20d6_row1_col5\" class=\"data row1 col5\" >0.7202</td>\n",
              "      <td id=\"T_f20d6_row1_col6\" class=\"data row1 col6\" >0.5021</td>\n",
              "      <td id=\"T_f20d6_row1_col7\" class=\"data row1 col7\" >0.5048</td>\n",
              "      <td id=\"T_f20d6_row1_col8\" class=\"data row1 col8\" >95.1850</td>\n",
              "    </tr>\n",
              "    <tr>\n",
              "      <th id=\"T_f20d6_level0_row2\" class=\"row_heading level0 row2\" >catboost</th>\n",
              "      <td id=\"T_f20d6_row2_col0\" class=\"data row2 col0\" >CatBoost Classifier</td>\n",
              "      <td id=\"T_f20d6_row2_col1\" class=\"data row2 col1\" >0.6948</td>\n",
              "      <td id=\"T_f20d6_row2_col2\" class=\"data row2 col2\" >0.8266</td>\n",
              "      <td id=\"T_f20d6_row2_col3\" class=\"data row2 col3\" >0.6948</td>\n",
              "      <td id=\"T_f20d6_row2_col4\" class=\"data row2 col4\" >0.7170</td>\n",
              "      <td id=\"T_f20d6_row2_col5\" class=\"data row2 col5\" >0.7035</td>\n",
              "      <td id=\"T_f20d6_row2_col6\" class=\"data row2 col6\" >0.4722</td>\n",
              "      <td id=\"T_f20d6_row2_col7\" class=\"data row2 col7\" >0.4748</td>\n",
              "      <td id=\"T_f20d6_row2_col8\" class=\"data row2 col8\" >141.4520</td>\n",
              "    </tr>\n",
              "    <tr>\n",
              "      <th id=\"T_f20d6_level0_row3\" class=\"row_heading level0 row3\" >xgboost</th>\n",
              "      <td id=\"T_f20d6_row3_col0\" class=\"data row3 col0\" >Extreme Gradient Boosting</td>\n",
              "      <td id=\"T_f20d6_row3_col1\" class=\"data row3 col1\" >0.6847</td>\n",
              "      <td id=\"T_f20d6_row3_col2\" class=\"data row3 col2\" >0.8247</td>\n",
              "      <td id=\"T_f20d6_row3_col3\" class=\"data row3 col3\" >0.6847</td>\n",
              "      <td id=\"T_f20d6_row3_col4\" class=\"data row3 col4\" >0.7168</td>\n",
              "      <td id=\"T_f20d6_row3_col5\" class=\"data row3 col5\" >0.6963</td>\n",
              "      <td id=\"T_f20d6_row3_col6\" class=\"data row3 col6\" >0.4651</td>\n",
              "      <td id=\"T_f20d6_row3_col7\" class=\"data row3 col7\" >0.4699</td>\n",
              "      <td id=\"T_f20d6_row3_col8\" class=\"data row3 col8\" >11.4310</td>\n",
              "    </tr>\n",
              "    <tr>\n",
              "      <th id=\"T_f20d6_level0_row4\" class=\"row_heading level0 row4\" >lightgbm</th>\n",
              "      <td id=\"T_f20d6_row4_col0\" class=\"data row4 col0\" >Light Gradient Boosting Machine</td>\n",
              "      <td id=\"T_f20d6_row4_col1\" class=\"data row4 col1\" >0.6810</td>\n",
              "      <td id=\"T_f20d6_row4_col2\" class=\"data row4 col2\" >0.8242</td>\n",
              "      <td id=\"T_f20d6_row4_col3\" class=\"data row4 col3\" >0.6810</td>\n",
              "      <td id=\"T_f20d6_row4_col4\" class=\"data row4 col4\" >0.7153</td>\n",
              "      <td id=\"T_f20d6_row4_col5\" class=\"data row4 col5\" >0.6934</td>\n",
              "      <td id=\"T_f20d6_row4_col6\" class=\"data row4 col6\" >0.4604</td>\n",
              "      <td id=\"T_f20d6_row4_col7\" class=\"data row4 col7\" >0.4656</td>\n",
              "      <td id=\"T_f20d6_row4_col8\" class=\"data row4 col8\" >23.8480</td>\n",
              "    </tr>\n",
              "    <tr>\n",
              "      <th id=\"T_f20d6_level0_row5\" class=\"row_heading level0 row5\" >gbc</th>\n",
              "      <td id=\"T_f20d6_row5_col0\" class=\"data row5 col0\" >Gradient Boosting Classifier</td>\n",
              "      <td id=\"T_f20d6_row5_col1\" class=\"data row5 col1\" >0.6469</td>\n",
              "      <td id=\"T_f20d6_row5_col2\" class=\"data row5 col2\" >0.0000</td>\n",
              "      <td id=\"T_f20d6_row5_col3\" class=\"data row5 col3\" >0.6469</td>\n",
              "      <td id=\"T_f20d6_row5_col4\" class=\"data row5 col4\" >0.7078</td>\n",
              "      <td id=\"T_f20d6_row5_col5\" class=\"data row5 col5\" >0.6670</td>\n",
              "      <td id=\"T_f20d6_row5_col6\" class=\"data row5 col6\" >0.4256</td>\n",
              "      <td id=\"T_f20d6_row5_col7\" class=\"data row5 col7\" >0.4360</td>\n",
              "      <td id=\"T_f20d6_row5_col8\" class=\"data row5 col8\" >384.7580</td>\n",
              "    </tr>\n",
              "    <tr>\n",
              "      <th id=\"T_f20d6_level0_row6\" class=\"row_heading level0 row6\" >dt</th>\n",
              "      <td id=\"T_f20d6_row6_col0\" class=\"data row6 col0\" >Decision Tree Classifier</td>\n",
              "      <td id=\"T_f20d6_row6_col1\" class=\"data row6 col1\" >0.6369</td>\n",
              "      <td id=\"T_f20d6_row6_col2\" class=\"data row6 col2\" >0.6989</td>\n",
              "      <td id=\"T_f20d6_row6_col3\" class=\"data row6 col3\" >0.6369</td>\n",
              "      <td id=\"T_f20d6_row6_col4\" class=\"data row6 col4\" >0.6816</td>\n",
              "      <td id=\"T_f20d6_row6_col5\" class=\"data row6 col5\" >0.6532</td>\n",
              "      <td id=\"T_f20d6_row6_col6\" class=\"data row6 col6\" >0.3939</td>\n",
              "      <td id=\"T_f20d6_row6_col7\" class=\"data row6 col7\" >0.4001</td>\n",
              "      <td id=\"T_f20d6_row6_col8\" class=\"data row6 col8\" >4.4490</td>\n",
              "    </tr>\n",
              "    <tr>\n",
              "      <th id=\"T_f20d6_level0_row7\" class=\"row_heading level0 row7\" >nb</th>\n",
              "      <td id=\"T_f20d6_row7_col0\" class=\"data row7 col0\" >Naive Bayes</td>\n",
              "      <td id=\"T_f20d6_row7_col1\" class=\"data row7 col1\" >0.5581</td>\n",
              "      <td id=\"T_f20d6_row7_col2\" class=\"data row7 col2\" >0.7571</td>\n",
              "      <td id=\"T_f20d6_row7_col3\" class=\"data row7 col3\" >0.5581</td>\n",
              "      <td id=\"T_f20d6_row7_col4\" class=\"data row7 col4\" >0.6783</td>\n",
              "      <td id=\"T_f20d6_row7_col5\" class=\"data row7 col5\" >0.5897</td>\n",
              "      <td id=\"T_f20d6_row7_col6\" class=\"data row7 col6\" >0.2915</td>\n",
              "      <td id=\"T_f20d6_row7_col7\" class=\"data row7 col7\" >0.3045</td>\n",
              "      <td id=\"T_f20d6_row7_col8\" class=\"data row7 col8\" >0.6090</td>\n",
              "    </tr>\n",
              "    <tr>\n",
              "      <th id=\"T_f20d6_level0_row8\" class=\"row_heading level0 row8\" >qda</th>\n",
              "      <td id=\"T_f20d6_row8_col0\" class=\"data row8 col0\" >Quadratic Discriminant Analysis</td>\n",
              "      <td id=\"T_f20d6_row8_col1\" class=\"data row8 col1\" >0.5504</td>\n",
              "      <td id=\"T_f20d6_row8_col2\" class=\"data row8 col2\" >0.0000</td>\n",
              "      <td id=\"T_f20d6_row8_col3\" class=\"data row8 col3\" >0.5504</td>\n",
              "      <td id=\"T_f20d6_row8_col4\" class=\"data row8 col4\" >0.6745</td>\n",
              "      <td id=\"T_f20d6_row8_col5\" class=\"data row8 col5\" >0.5572</td>\n",
              "      <td id=\"T_f20d6_row8_col6\" class=\"data row8 col6\" >0.2900</td>\n",
              "      <td id=\"T_f20d6_row8_col7\" class=\"data row8 col7\" >0.3189</td>\n",
              "      <td id=\"T_f20d6_row8_col8\" class=\"data row8 col8\" >0.6470</td>\n",
              "    </tr>\n",
              "    <tr>\n",
              "      <th id=\"T_f20d6_level0_row9\" class=\"row_heading level0 row9\" >knn</th>\n",
              "      <td id=\"T_f20d6_row9_col0\" class=\"data row9 col0\" >K Neighbors Classifier</td>\n",
              "      <td id=\"T_f20d6_row9_col1\" class=\"data row9 col1\" >0.5332</td>\n",
              "      <td id=\"T_f20d6_row9_col2\" class=\"data row9 col2\" >0.7264</td>\n",
              "      <td id=\"T_f20d6_row9_col3\" class=\"data row9 col3\" >0.5332</td>\n",
              "      <td id=\"T_f20d6_row9_col4\" class=\"data row9 col4\" >0.6462</td>\n",
              "      <td id=\"T_f20d6_row9_col5\" class=\"data row9 col5\" >0.5619</td>\n",
              "      <td id=\"T_f20d6_row9_col6\" class=\"data row9 col6\" >0.2962</td>\n",
              "      <td id=\"T_f20d6_row9_col7\" class=\"data row9 col7\" >0.3159</td>\n",
              "      <td id=\"T_f20d6_row9_col8\" class=\"data row9 col8\" >2.2830</td>\n",
              "    </tr>\n",
              "    <tr>\n",
              "      <th id=\"T_f20d6_level0_row10\" class=\"row_heading level0 row10\" >lda</th>\n",
              "      <td id=\"T_f20d6_row10_col0\" class=\"data row10 col0\" >Linear Discriminant Analysis</td>\n",
              "      <td id=\"T_f20d6_row10_col1\" class=\"data row10 col1\" >0.4659</td>\n",
              "      <td id=\"T_f20d6_row10_col2\" class=\"data row10 col2\" >0.0000</td>\n",
              "      <td id=\"T_f20d6_row10_col3\" class=\"data row10 col3\" >0.4659</td>\n",
              "      <td id=\"T_f20d6_row10_col4\" class=\"data row10 col4\" >0.6551</td>\n",
              "      <td id=\"T_f20d6_row10_col5\" class=\"data row10 col5\" >0.5115</td>\n",
              "      <td id=\"T_f20d6_row10_col6\" class=\"data row10 col6\" >0.2546</td>\n",
              "      <td id=\"T_f20d6_row10_col7\" class=\"data row10 col7\" >0.2817</td>\n",
              "      <td id=\"T_f20d6_row10_col8\" class=\"data row10 col8\" >0.8600</td>\n",
              "    </tr>\n",
              "    <tr>\n",
              "      <th id=\"T_f20d6_level0_row11\" class=\"row_heading level0 row11\" >lr</th>\n",
              "      <td id=\"T_f20d6_row11_col0\" class=\"data row11 col0\" >Logistic Regression</td>\n",
              "      <td id=\"T_f20d6_row11_col1\" class=\"data row11 col1\" >0.4473</td>\n",
              "      <td id=\"T_f20d6_row11_col2\" class=\"data row11 col2\" >0.0000</td>\n",
              "      <td id=\"T_f20d6_row11_col3\" class=\"data row11 col3\" >0.4473</td>\n",
              "      <td id=\"T_f20d6_row11_col4\" class=\"data row11 col4\" >0.6648</td>\n",
              "      <td id=\"T_f20d6_row11_col5\" class=\"data row11 col5\" >0.4981</td>\n",
              "      <td id=\"T_f20d6_row11_col6\" class=\"data row11 col6\" >0.2438</td>\n",
              "      <td id=\"T_f20d6_row11_col7\" class=\"data row11 col7\" >0.2756</td>\n",
              "      <td id=\"T_f20d6_row11_col8\" class=\"data row11 col8\" >37.1400</td>\n",
              "    </tr>\n",
              "    <tr>\n",
              "      <th id=\"T_f20d6_level0_row12\" class=\"row_heading level0 row12\" >ridge</th>\n",
              "      <td id=\"T_f20d6_row12_col0\" class=\"data row12 col0\" >Ridge Classifier</td>\n",
              "      <td id=\"T_f20d6_row12_col1\" class=\"data row12 col1\" >0.4258</td>\n",
              "      <td id=\"T_f20d6_row12_col2\" class=\"data row12 col2\" >0.0000</td>\n",
              "      <td id=\"T_f20d6_row12_col3\" class=\"data row12 col3\" >0.4258</td>\n",
              "      <td id=\"T_f20d6_row12_col4\" class=\"data row12 col4\" >0.6453</td>\n",
              "      <td id=\"T_f20d6_row12_col5\" class=\"data row12 col5\" >0.4720</td>\n",
              "      <td id=\"T_f20d6_row12_col6\" class=\"data row12 col6\" >0.2231</td>\n",
              "      <td id=\"T_f20d6_row12_col7\" class=\"data row12 col7\" >0.2533</td>\n",
              "      <td id=\"T_f20d6_row12_col8\" class=\"data row12 col8\" >0.7420</td>\n",
              "    </tr>\n",
              "    <tr>\n",
              "      <th id=\"T_f20d6_level0_row13\" class=\"row_heading level0 row13\" >svm</th>\n",
              "      <td id=\"T_f20d6_row13_col0\" class=\"data row13 col0\" >SVM - Linear Kernel</td>\n",
              "      <td id=\"T_f20d6_row13_col1\" class=\"data row13 col1\" >0.3377</td>\n",
              "      <td id=\"T_f20d6_row13_col2\" class=\"data row13 col2\" >0.0000</td>\n",
              "      <td id=\"T_f20d6_row13_col3\" class=\"data row13 col3\" >0.3377</td>\n",
              "      <td id=\"T_f20d6_row13_col4\" class=\"data row13 col4\" >0.6631</td>\n",
              "      <td id=\"T_f20d6_row13_col5\" class=\"data row13 col5\" >0.3188</td>\n",
              "      <td id=\"T_f20d6_row13_col6\" class=\"data row13 col6\" >0.1713</td>\n",
              "      <td id=\"T_f20d6_row13_col7\" class=\"data row13 col7\" >0.2304</td>\n",
              "      <td id=\"T_f20d6_row13_col8\" class=\"data row13 col8\" >74.3600</td>\n",
              "    </tr>\n",
              "    <tr>\n",
              "      <th id=\"T_f20d6_level0_row14\" class=\"row_heading level0 row14\" >ada</th>\n",
              "      <td id=\"T_f20d6_row14_col0\" class=\"data row14 col0\" >Ada Boost Classifier</td>\n",
              "      <td id=\"T_f20d6_row14_col1\" class=\"data row14 col1\" >0.2614</td>\n",
              "      <td id=\"T_f20d6_row14_col2\" class=\"data row14 col2\" >0.0000</td>\n",
              "      <td id=\"T_f20d6_row14_col3\" class=\"data row14 col3\" >0.2614</td>\n",
              "      <td id=\"T_f20d6_row14_col4\" class=\"data row14 col4\" >0.5548</td>\n",
              "      <td id=\"T_f20d6_row14_col5\" class=\"data row14 col5\" >0.2768</td>\n",
              "      <td id=\"T_f20d6_row14_col6\" class=\"data row14 col6\" >0.1066</td>\n",
              "      <td id=\"T_f20d6_row14_col7\" class=\"data row14 col7\" >0.1418</td>\n",
              "      <td id=\"T_f20d6_row14_col8\" class=\"data row14 col8\" >17.1840</td>\n",
              "    </tr>\n",
              "    <tr>\n",
              "      <th id=\"T_f20d6_level0_row15\" class=\"row_heading level0 row15\" >dummy</th>\n",
              "      <td id=\"T_f20d6_row15_col0\" class=\"data row15 col0\" >Dummy Classifier</td>\n",
              "      <td id=\"T_f20d6_row15_col1\" class=\"data row15 col1\" >0.1130</td>\n",
              "      <td id=\"T_f20d6_row15_col2\" class=\"data row15 col2\" >0.5000</td>\n",
              "      <td id=\"T_f20d6_row15_col3\" class=\"data row15 col3\" >0.1130</td>\n",
              "      <td id=\"T_f20d6_row15_col4\" class=\"data row15 col4\" >0.0128</td>\n",
              "      <td id=\"T_f20d6_row15_col5\" class=\"data row15 col5\" >0.0229</td>\n",
              "      <td id=\"T_f20d6_row15_col6\" class=\"data row15 col6\" >0.0000</td>\n",
              "      <td id=\"T_f20d6_row15_col7\" class=\"data row15 col7\" >0.0000</td>\n",
              "      <td id=\"T_f20d6_row15_col8\" class=\"data row15 col8\" >0.5940</td>\n",
              "    </tr>\n",
              "  </tbody>\n",
              "</table>\n"
            ]
          },
          "metadata": {}
        },
        {
          "output_type": "display_data",
          "data": {
            "text/plain": [
              "Processing:   0%|          | 0/69 [00:00<?, ?it/s]"
            ],
            "application/vnd.jupyter.widget-view+json": {
              "version_major": 2,
              "version_minor": 0,
              "model_id": "3f927ed293af4b4d8fecc8fa561705ab"
            }
          },
          "metadata": {
            "application/vnd.jupyter.widget-view+json": {
              "colab": {
                "custom_widget_manager": {
                  "url": "https://ssl.gstatic.com/colaboratory-static/widgets/colab-cdn-widget-manager/2b70e893a8ba7c0f/manager.min.js"
                }
              }
            }
          }
        },
        {
          "output_type": "display_data",
          "data": {
            "text/plain": [
              "<IPython.core.display.HTML object>"
            ],
            "text/html": []
          },
          "metadata": {}
        }
      ]
    },
    {
      "cell_type": "markdown",
      "source": [
        "# Tune the best model\n"
      ],
      "metadata": {
        "id": "dGBbTK_L5MBB"
      }
    },
    {
      "cell_type": "code",
      "source": [
        "tuned_model = tune_model(best_model)\n"
      ],
      "metadata": {
        "colab": {
          "base_uri": "https://localhost:8080/",
          "height": 512,
          "referenced_widgets": [
            "fe1136b2cbad498fb861892315b6dda1",
            "fe2aa535bcad4e6b913688d82bb025a4",
            "591992a3130745dbb4f1640c010d5143",
            "8310d7ba669e42f78d82857375f1d350",
            "089004cef74541bcb15c36e573f42b03",
            "50fce253bd9f499cbff2c2fe2233b50c",
            "cb3b3c3f3c8e441aa0f401c442b3f8e4",
            "4290047763ad4e458effc7f112501f3c",
            "4d3ebf9d66554944b8e0b1a19426c71e",
            "9b8f357e782f494dbb96263c275ee1a8",
            "8144d4612d514df48d4660c617db380f"
          ]
        },
        "id": "mnsNXb5O4Mxb",
        "outputId": "25e989fb-34a5-4915-cb7b-77dd94ec58bb"
      },
      "execution_count": null,
      "outputs": [
        {
          "output_type": "display_data",
          "data": {
            "text/plain": [
              "<IPython.core.display.HTML object>"
            ],
            "text/html": []
          },
          "metadata": {}
        },
        {
          "output_type": "display_data",
          "data": {
            "text/plain": [
              "<pandas.io.formats.style.Styler at 0x7a5ce3169590>"
            ],
            "text/html": [
              "<style type=\"text/css\">\n",
              "#T_be92d_row10_col0, #T_be92d_row10_col1, #T_be92d_row10_col2, #T_be92d_row10_col3, #T_be92d_row10_col4, #T_be92d_row10_col5, #T_be92d_row10_col6 {\n",
              "  background: yellow;\n",
              "}\n",
              "</style>\n",
              "<table id=\"T_be92d\" class=\"dataframe\">\n",
              "  <thead>\n",
              "    <tr>\n",
              "      <th class=\"blank level0\" >&nbsp;</th>\n",
              "      <th id=\"T_be92d_level0_col0\" class=\"col_heading level0 col0\" >Accuracy</th>\n",
              "      <th id=\"T_be92d_level0_col1\" class=\"col_heading level0 col1\" >AUC</th>\n",
              "      <th id=\"T_be92d_level0_col2\" class=\"col_heading level0 col2\" >Recall</th>\n",
              "      <th id=\"T_be92d_level0_col3\" class=\"col_heading level0 col3\" >Prec.</th>\n",
              "      <th id=\"T_be92d_level0_col4\" class=\"col_heading level0 col4\" >F1</th>\n",
              "      <th id=\"T_be92d_level0_col5\" class=\"col_heading level0 col5\" >Kappa</th>\n",
              "      <th id=\"T_be92d_level0_col6\" class=\"col_heading level0 col6\" >MCC</th>\n",
              "    </tr>\n",
              "    <tr>\n",
              "      <th class=\"index_name level0\" >Fold</th>\n",
              "      <th class=\"blank col0\" >&nbsp;</th>\n",
              "      <th class=\"blank col1\" >&nbsp;</th>\n",
              "      <th class=\"blank col2\" >&nbsp;</th>\n",
              "      <th class=\"blank col3\" >&nbsp;</th>\n",
              "      <th class=\"blank col4\" >&nbsp;</th>\n",
              "      <th class=\"blank col5\" >&nbsp;</th>\n",
              "      <th class=\"blank col6\" >&nbsp;</th>\n",
              "    </tr>\n",
              "  </thead>\n",
              "  <tbody>\n",
              "    <tr>\n",
              "      <th id=\"T_be92d_level0_row0\" class=\"row_heading level0 row0\" >0</th>\n",
              "      <td id=\"T_be92d_row0_col0\" class=\"data row0 col0\" >0.6813</td>\n",
              "      <td id=\"T_be92d_row0_col1\" class=\"data row0 col1\" >0.6384</td>\n",
              "      <td id=\"T_be92d_row0_col2\" class=\"data row0 col2\" >0.6813</td>\n",
              "      <td id=\"T_be92d_row0_col3\" class=\"data row0 col3\" >0.5850</td>\n",
              "      <td id=\"T_be92d_row0_col4\" class=\"data row0 col4\" >0.5997</td>\n",
              "      <td id=\"T_be92d_row0_col5\" class=\"data row0 col5\" >0.3149</td>\n",
              "      <td id=\"T_be92d_row0_col6\" class=\"data row0 col6\" >0.3564</td>\n",
              "    </tr>\n",
              "    <tr>\n",
              "      <th id=\"T_be92d_level0_row1\" class=\"row_heading level0 row1\" >1</th>\n",
              "      <td id=\"T_be92d_row1_col0\" class=\"data row1 col0\" >0.6825</td>\n",
              "      <td id=\"T_be92d_row1_col1\" class=\"data row1 col1\" >0.6378</td>\n",
              "      <td id=\"T_be92d_row1_col2\" class=\"data row1 col2\" >0.6825</td>\n",
              "      <td id=\"T_be92d_row1_col3\" class=\"data row1 col3\" >0.5843</td>\n",
              "      <td id=\"T_be92d_row1_col4\" class=\"data row1 col4\" >0.5886</td>\n",
              "      <td id=\"T_be92d_row1_col5\" class=\"data row1 col5\" >0.3046</td>\n",
              "      <td id=\"T_be92d_row1_col6\" class=\"data row1 col6\" >0.3562</td>\n",
              "    </tr>\n",
              "    <tr>\n",
              "      <th id=\"T_be92d_level0_row2\" class=\"row_heading level0 row2\" >2</th>\n",
              "      <td id=\"T_be92d_row2_col0\" class=\"data row2 col0\" >0.6823</td>\n",
              "      <td id=\"T_be92d_row2_col1\" class=\"data row2 col1\" >0.6392</td>\n",
              "      <td id=\"T_be92d_row2_col2\" class=\"data row2 col2\" >0.6823</td>\n",
              "      <td id=\"T_be92d_row2_col3\" class=\"data row2 col3\" >0.5912</td>\n",
              "      <td id=\"T_be92d_row2_col4\" class=\"data row2 col4\" >0.5886</td>\n",
              "      <td id=\"T_be92d_row2_col5\" class=\"data row2 col5\" >0.3045</td>\n",
              "      <td id=\"T_be92d_row2_col6\" class=\"data row2 col6\" >0.3566</td>\n",
              "    </tr>\n",
              "    <tr>\n",
              "      <th id=\"T_be92d_level0_row3\" class=\"row_heading level0 row3\" >3</th>\n",
              "      <td id=\"T_be92d_row3_col0\" class=\"data row3 col0\" >0.6837</td>\n",
              "      <td id=\"T_be92d_row3_col1\" class=\"data row3 col1\" >0.6392</td>\n",
              "      <td id=\"T_be92d_row3_col2\" class=\"data row3 col2\" >0.6837</td>\n",
              "      <td id=\"T_be92d_row3_col3\" class=\"data row3 col3\" >0.5891</td>\n",
              "      <td id=\"T_be92d_row3_col4\" class=\"data row3 col4\" >0.5889</td>\n",
              "      <td id=\"T_be92d_row3_col5\" class=\"data row3 col5\" >0.3074</td>\n",
              "      <td id=\"T_be92d_row3_col6\" class=\"data row3 col6\" >0.3594</td>\n",
              "    </tr>\n",
              "    <tr>\n",
              "      <th id=\"T_be92d_level0_row4\" class=\"row_heading level0 row4\" >4</th>\n",
              "      <td id=\"T_be92d_row4_col0\" class=\"data row4 col0\" >0.6851</td>\n",
              "      <td id=\"T_be92d_row4_col1\" class=\"data row4 col1\" >0.6355</td>\n",
              "      <td id=\"T_be92d_row4_col2\" class=\"data row4 col2\" >0.6851</td>\n",
              "      <td id=\"T_be92d_row4_col3\" class=\"data row4 col3\" >0.5816</td>\n",
              "      <td id=\"T_be92d_row4_col4\" class=\"data row4 col4\" >0.5901</td>\n",
              "      <td id=\"T_be92d_row4_col5\" class=\"data row4 col5\" >0.3038</td>\n",
              "      <td id=\"T_be92d_row4_col6\" class=\"data row4 col6\" >0.3591</td>\n",
              "    </tr>\n",
              "    <tr>\n",
              "      <th id=\"T_be92d_level0_row5\" class=\"row_heading level0 row5\" >5</th>\n",
              "      <td id=\"T_be92d_row5_col0\" class=\"data row5 col0\" >0.6826</td>\n",
              "      <td id=\"T_be92d_row5_col1\" class=\"data row5 col1\" >0.6368</td>\n",
              "      <td id=\"T_be92d_row5_col2\" class=\"data row5 col2\" >0.6826</td>\n",
              "      <td id=\"T_be92d_row5_col3\" class=\"data row5 col3\" >0.5776</td>\n",
              "      <td id=\"T_be92d_row5_col4\" class=\"data row5 col4\" >0.5879</td>\n",
              "      <td id=\"T_be92d_row5_col5\" class=\"data row5 col5\" >0.3032</td>\n",
              "      <td id=\"T_be92d_row5_col6\" class=\"data row5 col6\" >0.3552</td>\n",
              "    </tr>\n",
              "    <tr>\n",
              "      <th id=\"T_be92d_level0_row6\" class=\"row_heading level0 row6\" >6</th>\n",
              "      <td id=\"T_be92d_row6_col0\" class=\"data row6 col0\" >0.6883</td>\n",
              "      <td id=\"T_be92d_row6_col1\" class=\"data row6 col1\" >0.6396</td>\n",
              "      <td id=\"T_be92d_row6_col2\" class=\"data row6 col2\" >0.6883</td>\n",
              "      <td id=\"T_be92d_row6_col3\" class=\"data row6 col3\" >0.6001</td>\n",
              "      <td id=\"T_be92d_row6_col4\" class=\"data row6 col4\" >0.5914</td>\n",
              "      <td id=\"T_be92d_row6_col5\" class=\"data row6 col5\" >0.3144</td>\n",
              "      <td id=\"T_be92d_row6_col6\" class=\"data row6 col6\" >0.3703</td>\n",
              "    </tr>\n",
              "    <tr>\n",
              "      <th id=\"T_be92d_level0_row7\" class=\"row_heading level0 row7\" >7</th>\n",
              "      <td id=\"T_be92d_row7_col0\" class=\"data row7 col0\" >0.6859</td>\n",
              "      <td id=\"T_be92d_row7_col1\" class=\"data row7 col1\" >0.6412</td>\n",
              "      <td id=\"T_be92d_row7_col2\" class=\"data row7 col2\" >0.6859</td>\n",
              "      <td id=\"T_be92d_row7_col3\" class=\"data row7 col3\" >0.5970</td>\n",
              "      <td id=\"T_be92d_row7_col4\" class=\"data row7 col4\" >0.6032</td>\n",
              "      <td id=\"T_be92d_row7_col5\" class=\"data row7 col5\" >0.3226</td>\n",
              "      <td id=\"T_be92d_row7_col6\" class=\"data row7 col6\" >0.3671</td>\n",
              "    </tr>\n",
              "    <tr>\n",
              "      <th id=\"T_be92d_level0_row8\" class=\"row_heading level0 row8\" >8</th>\n",
              "      <td id=\"T_be92d_row8_col0\" class=\"data row8 col0\" >0.6831</td>\n",
              "      <td id=\"T_be92d_row8_col1\" class=\"data row8 col1\" >0.6409</td>\n",
              "      <td id=\"T_be92d_row8_col2\" class=\"data row8 col2\" >0.6831</td>\n",
              "      <td id=\"T_be92d_row8_col3\" class=\"data row8 col3\" >0.5933</td>\n",
              "      <td id=\"T_be92d_row8_col4\" class=\"data row8 col4\" >0.6033</td>\n",
              "      <td id=\"T_be92d_row8_col5\" class=\"data row8 col5\" >0.3219</td>\n",
              "      <td id=\"T_be92d_row8_col6\" class=\"data row8 col6\" >0.3623</td>\n",
              "    </tr>\n",
              "    <tr>\n",
              "      <th id=\"T_be92d_level0_row9\" class=\"row_heading level0 row9\" >9</th>\n",
              "      <td id=\"T_be92d_row9_col0\" class=\"data row9 col0\" >0.6820</td>\n",
              "      <td id=\"T_be92d_row9_col1\" class=\"data row9 col1\" >0.6393</td>\n",
              "      <td id=\"T_be92d_row9_col2\" class=\"data row9 col2\" >0.6820</td>\n",
              "      <td id=\"T_be92d_row9_col3\" class=\"data row9 col3\" >0.5881</td>\n",
              "      <td id=\"T_be92d_row9_col4\" class=\"data row9 col4\" >0.5979</td>\n",
              "      <td id=\"T_be92d_row9_col5\" class=\"data row9 col5\" >0.3143</td>\n",
              "      <td id=\"T_be92d_row9_col6\" class=\"data row9 col6\" >0.3577</td>\n",
              "    </tr>\n",
              "    <tr>\n",
              "      <th id=\"T_be92d_level0_row10\" class=\"row_heading level0 row10\" >Mean</th>\n",
              "      <td id=\"T_be92d_row10_col0\" class=\"data row10 col0\" >0.6837</td>\n",
              "      <td id=\"T_be92d_row10_col1\" class=\"data row10 col1\" >0.6388</td>\n",
              "      <td id=\"T_be92d_row10_col2\" class=\"data row10 col2\" >0.6837</td>\n",
              "      <td id=\"T_be92d_row10_col3\" class=\"data row10 col3\" >0.5887</td>\n",
              "      <td id=\"T_be92d_row10_col4\" class=\"data row10 col4\" >0.5940</td>\n",
              "      <td id=\"T_be92d_row10_col5\" class=\"data row10 col5\" >0.3112</td>\n",
              "      <td id=\"T_be92d_row10_col6\" class=\"data row10 col6\" >0.3600</td>\n",
              "    </tr>\n",
              "    <tr>\n",
              "      <th id=\"T_be92d_level0_row11\" class=\"row_heading level0 row11\" >Std</th>\n",
              "      <td id=\"T_be92d_row11_col0\" class=\"data row11 col0\" >0.0020</td>\n",
              "      <td id=\"T_be92d_row11_col1\" class=\"data row11 col1\" >0.0016</td>\n",
              "      <td id=\"T_be92d_row11_col2\" class=\"data row11 col2\" >0.0020</td>\n",
              "      <td id=\"T_be92d_row11_col3\" class=\"data row11 col3\" >0.0066</td>\n",
              "      <td id=\"T_be92d_row11_col4\" class=\"data row11 col4\" >0.0060</td>\n",
              "      <td id=\"T_be92d_row11_col5\" class=\"data row11 col5\" >0.0071</td>\n",
              "      <td id=\"T_be92d_row11_col6\" class=\"data row11 col6\" >0.0048</td>\n",
              "    </tr>\n",
              "  </tbody>\n",
              "</table>\n"
            ]
          },
          "metadata": {}
        },
        {
          "output_type": "display_data",
          "data": {
            "text/plain": [
              "Processing:   0%|          | 0/7 [00:00<?, ?it/s]"
            ],
            "application/vnd.jupyter.widget-view+json": {
              "version_major": 2,
              "version_minor": 0,
              "model_id": "fe1136b2cbad498fb861892315b6dda1"
            }
          },
          "metadata": {
            "application/vnd.jupyter.widget-view+json": {
              "colab": {
                "custom_widget_manager": {
                  "url": "https://ssl.gstatic.com/colaboratory-static/widgets/colab-cdn-widget-manager/2b70e893a8ba7c0f/manager.min.js"
                }
              }
            }
          }
        },
        {
          "output_type": "stream",
          "name": "stdout",
          "text": [
            "Fitting 10 folds for each of 10 candidates, totalling 100 fits\n"
          ]
        },
        {
          "output_type": "display_data",
          "data": {
            "text/plain": [
              "<IPython.core.display.HTML object>"
            ],
            "text/html": []
          },
          "metadata": {}
        },
        {
          "output_type": "stream",
          "name": "stdout",
          "text": [
            "Original model was better than the tuned model, hence it will be returned. NOTE: The display metrics are for the tuned model (not the original one).\n"
          ]
        }
      ]
    },
    {
      "cell_type": "markdown",
      "source": [
        "# Evaluate tuned_model directly:\n"
      ],
      "metadata": {
        "id": "x7unxeH09_tl"
      }
    },
    {
      "cell_type": "code",
      "source": [
        "evaluate_model(tuned_model)"
      ],
      "metadata": {
        "colab": {
          "base_uri": "https://localhost:8080/",
          "height": 641,
          "referenced_widgets": [
            "4de3ecaefa0e46f582f6f7d4f7fde16e",
            "6497dca9a9074cb883b8c47a95c248a0",
            "d198655133314e9393a605aedf060dc2",
            "704c26fd31c9440cac3380194405bd14",
            "39d83e2440b4492e9701ede3b8db8e62",
            "7291fbdd9150449ea66cba479badc454",
            "26de909ba57d485b8c9f5aeabb6b2042"
          ]
        },
        "id": "5YmULCFJ5VeD",
        "outputId": "0865e2ed-b8e6-4c2e-f2e0-eb1cb8a51a64"
      },
      "execution_count": null,
      "outputs": [
        {
          "output_type": "display_data",
          "data": {
            "text/plain": [
              "interactive(children=(ToggleButtons(description='Plot Type:', icons=('',), options=(('Pipeline Plot', 'pipelin…"
            ],
            "application/vnd.jupyter.widget-view+json": {
              "version_major": 2,
              "version_minor": 0,
              "model_id": "4de3ecaefa0e46f582f6f7d4f7fde16e"
            }
          },
          "metadata": {
            "application/vnd.jupyter.widget-view+json": {
              "colab": {
                "custom_widget_manager": {
                  "url": "https://ssl.gstatic.com/colaboratory-static/widgets/colab-cdn-widget-manager/2b70e893a8ba7c0f/manager.min.js"
                }
              }
            }
          }
        }
      ]
    },
    {
      "cell_type": "markdown",
      "source": [
        "# Predict on the same data\n"
      ],
      "metadata": {
        "id": "O2KN01OY_Zro"
      }
    },
    {
      "cell_type": "code",
      "source": [
        "predictions = predict_model(tuned_model, data=df_filtered)\n"
      ],
      "metadata": {
        "colab": {
          "base_uri": "https://localhost:8080/",
          "height": 81
        },
        "id": "9yXiswLm_Y54",
        "outputId": "eb84ecfb-d371-42ff-9ed2-f5df471a8f3f"
      },
      "execution_count": null,
      "outputs": [
        {
          "output_type": "display_data",
          "data": {
            "text/plain": [
              "<pandas.io.formats.style.Styler at 0x7a5ce3257b50>"
            ],
            "text/html": [
              "<style type=\"text/css\">\n",
              "</style>\n",
              "<table id=\"T_2ed11\" class=\"dataframe\">\n",
              "  <thead>\n",
              "    <tr>\n",
              "      <th class=\"blank level0\" >&nbsp;</th>\n",
              "      <th id=\"T_2ed11_level0_col0\" class=\"col_heading level0 col0\" >Model</th>\n",
              "      <th id=\"T_2ed11_level0_col1\" class=\"col_heading level0 col1\" >Accuracy</th>\n",
              "      <th id=\"T_2ed11_level0_col2\" class=\"col_heading level0 col2\" >AUC</th>\n",
              "      <th id=\"T_2ed11_level0_col3\" class=\"col_heading level0 col3\" >Recall</th>\n",
              "      <th id=\"T_2ed11_level0_col4\" class=\"col_heading level0 col4\" >Prec.</th>\n",
              "      <th id=\"T_2ed11_level0_col5\" class=\"col_heading level0 col5\" >F1</th>\n",
              "      <th id=\"T_2ed11_level0_col6\" class=\"col_heading level0 col6\" >Kappa</th>\n",
              "      <th id=\"T_2ed11_level0_col7\" class=\"col_heading level0 col7\" >MCC</th>\n",
              "    </tr>\n",
              "  </thead>\n",
              "  <tbody>\n",
              "    <tr>\n",
              "      <th id=\"T_2ed11_level0_row0\" class=\"row_heading level0 row0\" >0</th>\n",
              "      <td id=\"T_2ed11_row0_col0\" class=\"data row0 col0\" >Extra Trees Classifier</td>\n",
              "      <td id=\"T_2ed11_row0_col1\" class=\"data row0 col1\" >0.9175</td>\n",
              "      <td id=\"T_2ed11_row0_col2\" class=\"data row0 col2\" >0.9859</td>\n",
              "      <td id=\"T_2ed11_row0_col3\" class=\"data row0 col3\" >0.9175</td>\n",
              "      <td id=\"T_2ed11_row0_col4\" class=\"data row0 col4\" >0.9182</td>\n",
              "      <td id=\"T_2ed11_row0_col5\" class=\"data row0 col5\" >0.9178</td>\n",
              "      <td id=\"T_2ed11_row0_col6\" class=\"data row0 col6\" >0.8509</td>\n",
              "      <td id=\"T_2ed11_row0_col7\" class=\"data row0 col7\" >0.8509</td>\n",
              "    </tr>\n",
              "  </tbody>\n",
              "</table>\n"
            ]
          },
          "metadata": {}
        }
      ]
    },
    {
      "cell_type": "code",
      "source": [
        "df_sampled = df_filtered.sample(frac=0.3, random_state=123)\n"
      ],
      "metadata": {
        "id": "I7ywCaF-_twi"
      },
      "execution_count": null,
      "outputs": []
    },
    {
      "cell_type": "markdown",
      "source": [
        "# Performance metrics\n"
      ],
      "metadata": {
        "id": "LCKXWD82ALqu"
      }
    },
    {
      "cell_type": "code",
      "source": [
        "from sklearn.metrics import accuracy_score, precision_score, recall_score, f1_score, confusion_matrix\n",
        "\n",
        "y_true = df_filtered['Summary_encoded']\n",
        "y_pred = predictions['prediction_label']\n",
        "\n",
        "acc = accuracy_score(y_true, y_pred)\n",
        "prec = precision_score(y_true, y_pred, average='weighted')\n",
        "rec = recall_score(y_true, y_pred, average='weighted')\n",
        "f1 = f1_score(y_true, y_pred, average='weighted')\n",
        "\n",
        "print(\" Performance Metrics:\")\n",
        "print(f\"Accuracy: {acc:.4f}\")\n",
        "print(f\"Precision: {prec:.4f}\")\n",
        "print(f\"Recall: {rec:.4f}\")\n",
        "print(f\"F1 Score: {f1:.4f}\")\n"
      ],
      "metadata": {
        "colab": {
          "base_uri": "https://localhost:8080/"
        },
        "id": "iGjLE-HtAI9V",
        "outputId": "d222f8b2-9c0b-4b22-e68f-ca0944f5ed8f"
      },
      "execution_count": null,
      "outputs": [
        {
          "output_type": "stream",
          "name": "stdout",
          "text": [
            " Performance Metrics:\n",
            "Accuracy: 0.9175\n",
            "Precision: 0.9182\n",
            "Recall: 0.9175\n",
            "F1 Score: 0.9178\n"
          ]
        }
      ]
    },
    {
      "cell_type": "markdown",
      "source": [
        "# Confusion Matrix\n"
      ],
      "metadata": {
        "id": "2CdCfrgbAXYw"
      }
    },
    {
      "cell_type": "code",
      "source": [
        "cm = confusion_matrix(y_true, y_pred)\n",
        "plt.figure(figsize=(10, 6))\n",
        "sns.heatmap(cm, annot=False, cmap='Blues')\n",
        "plt.title('Confusion Matrix Heatmap')\n",
        "plt.xlabel('Predicted')\n",
        "plt.ylabel('Actual')\n",
        "plt.show()"
      ],
      "metadata": {
        "colab": {
          "base_uri": "https://localhost:8080/",
          "height": 562
        },
        "id": "SqhaG_AQAOKO",
        "outputId": "bfa1f56a-98f3-4d23-c593-c878015cae3f"
      },
      "execution_count": null,
      "outputs": [
        {
          "output_type": "display_data",
          "data": {
            "text/plain": [
              "<Figure size 1000x600 with 2 Axes>"
            ],
            "image/png": "[encoded data removed]"
          },
          "metadata": {}
        }
      ]
    },
    {
      "cell_type": "code",
      "source": [
        "import json\n",
        "\n",
        "# Replace with your actual notebook filename\n",
        "notebook_path = \"your_notebook.ipynb\"\n",
        "\n",
        "with open(notebook_path, \"r\", encoding=\"utf-8\") as f:\n",
        "    nb = json.load(f)\n",
        "\n",
        "# Clean broken widget metadata\n",
        "for cell in nb.get(\"cells\", []):\n",
        "    metadata = cell.get(\"metadata\", {})\n",
        "    widgets = metadata.get(\"widgets\", {})\n",
        "    if isinstance(widgets, dict) and \"state\" not in widgets:\n",
        "        del metadata[\"widgets\"]\n",
        "\n",
        "with open(notebook_path, \"w\", encoding=\"utf-8\") as f:\n",
        "    json.dump(nb, f, indent=2)\n"
      ],
      "metadata": {
        "id": "ZwLAWlqaDjl2",
        "outputId": "370a2879-87d9-462c-af0a-1dbfc8ad1eed",
        "colab": {
          "base_uri": "https://localhost:8080/",
          "height": 222
        }
      },
      "execution_count": null,
      "outputs": [
        {
          "output_type": "error",
          "ename": "FileNotFoundError",
          "evalue": "[Errno 2] No such file or directory: 'your_notebook.ipynb'",
          "traceback": [
            "\u001b[0;31m---------------------------------------------------------------------------\u001b[0m",
            "\u001b[0;31mFileNotFoundError\u001b[0m                         Traceback (most recent call last)",
            "\u001b[0;32m/tmp/ipython-input-1-3839580353.py\u001b[0m in \u001b[0;36m<cell line: 0>\u001b[0;34m()\u001b[0m\n\u001b[1;32m      4\u001b[0m \u001b[0mnotebook_path\u001b[0m \u001b[0;34m=\u001b[0m \u001b[0;34m\"your_notebook.ipynb\"\u001b[0m\u001b[0;34m\u001b[0m\u001b[0;34m\u001b[0m\u001b[0m\n\u001b[1;32m      5\u001b[0m \u001b[0;34m\u001b[0m\u001b[0m\n\u001b[0;32m----> 6\u001b[0;31m \u001b[0;32mwith\u001b[0m \u001b[0mopen\u001b[0m\u001b[0;34m(\u001b[0m\u001b[0mnotebook_path\u001b[0m\u001b[0;34m,\u001b[0m \u001b[0;34m\"r\"\u001b[0m\u001b[0;34m,\u001b[0m \u001b[0mencoding\u001b[0m\u001b[0;34m=\u001b[0m\u001b[0;34m\"utf-8\"\u001b[0m\u001b[0;34m)\u001b[0m \u001b[0;32mas\u001b[0m \u001b[0mf\u001b[0m\u001b[0;34m:\u001b[0m\u001b[0;34m\u001b[0m\u001b[0;34m\u001b[0m\u001b[0m\n\u001b[0m\u001b[1;32m      7\u001b[0m     \u001b[0mnb\u001b[0m \u001b[0;34m=\u001b[0m \u001b[0mjson\u001b[0m\u001b[0;34m.\u001b[0m\u001b[0mload\u001b[0m\u001b[0;34m(\u001b[0m\u001b[0mf\u001b[0m\u001b[0;34m)\u001b[0m\u001b[0;34m\u001b[0m\u001b[0;34m\u001b[0m\u001b[0m\n\u001b[1;32m      8\u001b[0m \u001b[0;34m\u001b[0m\u001b[0m\n",
            "\u001b[0;31mFileNotFoundError\u001b[0m: [Errno 2] No such file or directory: 'your_notebook.ipynb'"
          ]
        }
      ]
    }
  ]
}